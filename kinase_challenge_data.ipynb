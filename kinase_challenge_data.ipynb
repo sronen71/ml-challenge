{
  "nbformat": 4,
  "nbformat_minor": 5,
  "metadata": {
    "kernelspec": {
      "name": "python3",
      "display_name": "Python 3"
    },
    "colab": {
      "name": "kinase_challenge_data.ipynb",
      "provenance": []
    },
    "accelerator": "GPU",
    "language_info": {
      "name": "python"
    }
  },
  "cells": [
    {
      "cell_type": "markdown",
      "metadata": {
        "id": "loved-paragraph"
      },
      "source": [
        "# Helping chemists design selective JAK inhibitors"
      ],
      "id": "loved-paragraph"
    },
    {
      "cell_type": "code",
      "metadata": {
        "colab": {
          "base_uri": "https://localhost:8080/"
        },
        "id": "oofXuVzQ-RAm",
        "outputId": "a04f0b26-3dce-4c0c-ad80-241f37b8bc0a"
      },
      "source": [
        "!pip install -q condacolab\n",
        "import condacolab\n",
        "condacolab.install()\n"
      ],
      "id": "oofXuVzQ-RAm",
      "execution_count": 1,
      "outputs": [
        {
          "output_type": "stream",
          "text": [
            "⏬ Downloading https://github.com/jaimergp/miniforge/releases/latest/download/Mambaforge-colab-Linux-x86_64.sh...\n",
            "📦 Installing...\n",
            "📌 Adjusting configuration...\n",
            "🩹 Patching environment...\n",
            "⏲ Done in 0:00:37\n",
            "🔁 Restarting kernel...\n"
          ],
          "name": "stdout"
        }
      ]
    },
    {
      "cell_type": "code",
      "metadata": {
        "colab": {
          "base_uri": "https://localhost:8080/"
        },
        "id": "AybTMKew-XxO",
        "outputId": "a989948b-374d-4b00-bb7f-e0aee9040ee8"
      },
      "source": [
        "import condacolab\n",
        "condacolab.check()"
      ],
      "id": "AybTMKew-XxO",
      "execution_count": 2,
      "outputs": [
        {
          "output_type": "stream",
          "text": [
            "✨🍰✨ Everything looks OK!\n"
          ],
          "name": "stdout"
        }
      ]
    },
    {
      "cell_type": "code",
      "metadata": {
        "id": "yNUuhKhz-fyk"
      },
      "source": [
        "%%capture\n",
        "!conda install rdkit"
      ],
      "id": "yNUuhKhz-fyk",
      "execution_count": 3,
      "outputs": []
    },
    {
      "cell_type": "markdown",
      "metadata": {
        "id": "corporate-tokyo"
      },
      "source": [
        "# The dataset"
      ],
      "id": "corporate-tokyo"
    },
    {
      "cell_type": "markdown",
      "metadata": {
        "id": "needed-reset"
      },
      "source": [
        "Here's the kinase dataset we'd like you to work with:"
      ],
      "id": "needed-reset"
    },
    {
      "cell_type": "code",
      "metadata": {
        "id": "I1eFCXTK4ldV"
      },
      "source": [
        ""
      ],
      "id": "I1eFCXTK4ldV",
      "execution_count": null,
      "outputs": []
    },
    {
      "cell_type": "code",
      "metadata": {
        "colab": {
          "base_uri": "https://localhost:8080/",
          "height": 143
        },
        "id": "immediate-nursing",
        "outputId": "ea35f707-e327-453a-9eaa-7f92556f67cb"
      },
      "source": [
        "import pandas as pd\n",
        "import numpy as np\n",
        "url='https://raw.githubusercontent.com/sronen71/ml-challenge/main/kinase_JAK.csv'\n",
        "#df = pd.read_csv('./kinase_JAK.csv')\n",
        "df=pd.read_csv(url)\n",
        "df.head()\n",
        "df.groupby(['measurement_type']).count()"
      ],
      "id": "immediate-nursing",
      "execution_count": 78,
      "outputs": [
        {
          "output_type": "execute_result",
          "data": {
            "text/html": [
              "<div>\n",
              "<style scoped>\n",
              "    .dataframe tbody tr th:only-of-type {\n",
              "        vertical-align: middle;\n",
              "    }\n",
              "\n",
              "    .dataframe tbody tr th {\n",
              "        vertical-align: top;\n",
              "    }\n",
              "\n",
              "    .dataframe thead th {\n",
              "        text-align: right;\n",
              "    }\n",
              "</style>\n",
              "<table border=\"1\" class=\"dataframe\">\n",
              "  <thead>\n",
              "    <tr style=\"text-align: right;\">\n",
              "      <th></th>\n",
              "      <th>SMILES</th>\n",
              "      <th>measurement_value</th>\n",
              "      <th>Kinase_name</th>\n",
              "    </tr>\n",
              "    <tr>\n",
              "      <th>measurement_type</th>\n",
              "      <th></th>\n",
              "      <th></th>\n",
              "      <th></th>\n",
              "    </tr>\n",
              "  </thead>\n",
              "  <tbody>\n",
              "    <tr>\n",
              "      <th>pIC50</th>\n",
              "      <td>8736</td>\n",
              "      <td>8736</td>\n",
              "      <td>8736</td>\n",
              "    </tr>\n",
              "    <tr>\n",
              "      <th>pKi</th>\n",
              "      <td>1989</td>\n",
              "      <td>1989</td>\n",
              "      <td>1989</td>\n",
              "    </tr>\n",
              "  </tbody>\n",
              "</table>\n",
              "</div>"
            ],
            "text/plain": [
              "                  SMILES  measurement_value  Kinase_name\n",
              "measurement_type                                        \n",
              "pIC50               8736               8736         8736\n",
              "pKi                 1989               1989         1989"
            ]
          },
          "metadata": {
            "tags": []
          },
          "execution_count": 78
        }
      ]
    },
    {
      "cell_type": "markdown",
      "metadata": {
        "id": "handmade-pitch"
      },
      "source": [
        "There are 10725 measurements in total.\n",
        "\n",
        "SMILES is a text encoding of a molecular structure. You can read about it [here](https://www.daylight.com/dayhtml/doc/theory/theory.smiles.html), but you don't have to. \n",
        "\n",
        "measurement_type specifies how the measurement was being done. There are two types of measurements: pIC50 and pKi. For both measurements, a higher number means that the molecule binds stronger to the protein. \n",
        "\n",
        "\n",
        "measurement_value is the value of the measurement. \n",
        "\n",
        "Kinase_name is the name of the kinase that the molecule has been measured against. There are 4 different kinases in this dataset: JAK1, JAK2, JAK3, and TYR2. \n",
        "\n",
        "Our goal is to predict the pKi of a molecule against JAK1, JAK2, JAK3, and TYK2. "
      ],
      "id": "handmade-pitch"
    },
    {
      "cell_type": "markdown",
      "metadata": {
        "id": "coastal-glucose"
      },
      "source": [
        "# Basic RDKit¶\n"
      ],
      "id": "coastal-glucose"
    },
    {
      "cell_type": "markdown",
      "metadata": {
        "id": "worth-hudson"
      },
      "source": [
        "rdkit is the most popular cheminformatics package for python. Unfortunately it has awful documentation: http://rdkit.org/docs/index.html"
      ],
      "id": "worth-hudson"
    },
    {
      "cell_type": "code",
      "metadata": {
        "id": "addressed-schedule"
      },
      "source": [
        "from rdkit import Chem\n",
        "from rdkit.Chem.Draw import IPythonConsole\n",
        "IPythonConsole.molSize = (400, 300)\n",
        "IPythonConsole.ipython_useSVG=True"
      ],
      "id": "addressed-schedule",
      "execution_count": 4,
      "outputs": []
    },
    {
      "cell_type": "markdown",
      "metadata": {
        "id": "honey-spokesman"
      },
      "source": [
        "You can use it to visualize SMILES strings like this, if you want to visually inspect the data:\n"
      ],
      "id": "honey-spokesman"
    },
    {
      "cell_type": "code",
      "metadata": {
        "colab": {
          "base_uri": "https://localhost:8080/",
          "height": 321
        },
        "id": "meaningful-filter",
        "outputId": "95b3d51e-23ef-4f8e-b71d-dfaf5eb48ad3"
      },
      "source": [
        "# Chem.MolFromSmiles returns a Chem.Mol object, which rdkit automatically visualizes in a jupyter notebook\n",
        "Chem.MolFromSmiles(df['SMILES'][0])"
      ],
      "id": "meaningful-filter",
      "execution_count": 5,
      "outputs": [
        {
          "output_type": "execute_result",
          "data": {
            "image/png": "[encoded data removed]",
            "text/plain": [
              "<rdkit.Chem.rdchem.Mol at 0x7fa7a892b9e0>"
            ],
            "image/svg+xml": "<?xml version='1.0' encoding='iso-8859-1'?>\n<svg version='1.1' baseProfile='full'\n              xmlns='http://www.w3.org/2000/svg'\n                      xmlns:rdkit='http://www.rdkit.org/xml'\n                      xmlns:xlink='http://www.w3.org/1999/xlink'\n                  xml:space='preserve'\nwidth='400px' height='300px' viewBox='0 0 400 300'>\n<!-- END OF HEADER -->\n<rect style='opacity:1.0;fill:#FFFFFF;stroke:none' width='400' height='300' x='0' y='0'> </rect>\n<path class='bond-0 atom-0 atom-1' d='M 18.1818,170.339 L 46.0186,159.428' style='fill:none;fill-rule:evenodd;stroke:#000000;stroke-width:2.0px;stroke-linecap:butt;stroke-linejoin:miter;stroke-opacity:1' />\n<path class='bond-0 atom-0 atom-1' d='M 20.3641,175.906 L 44.0253,166.632' style='fill:none;fill-rule:evenodd;stroke:#000000;stroke-width:2.0px;stroke-linecap:butt;stroke-linejoin:miter;stroke-opacity:1' />\n<path class='bond-0 atom-0 atom-1' d='M 15.9996,164.771 L 39.6609,155.497' style='fill:none;fill-rule:evenodd;stroke:#000000;stroke-width:2.0px;stroke-linecap:butt;stroke-linejoin:miter;stroke-opacity:1' />\n<path class='bond-1 atom-1 atom-2' d='M 46.0186,159.428 L 73.8554,148.516' style='fill:none;fill-rule:evenodd;stroke:#000000;stroke-width:2.0px;stroke-linecap:butt;stroke-linejoin:miter;stroke-opacity:1' />\n<path class='bond-2 atom-2 atom-3' d='M 73.8554,148.516 L 97.2232,167.168' style='fill:none;fill-rule:evenodd;stroke:#000000;stroke-width:2.0px;stroke-linecap:butt;stroke-linejoin:miter;stroke-opacity:1' />\n<path class='bond-3 atom-3 atom-4' d='M 97.2232,167.168 L 108.824,162.621' style='fill:none;fill-rule:evenodd;stroke:#000000;stroke-width:2.0px;stroke-linecap:butt;stroke-linejoin:miter;stroke-opacity:1' />\n<path class='bond-3 atom-3 atom-4' d='M 108.824,162.621 L 120.426,158.073' style='fill:none;fill-rule:evenodd;stroke:#FF0000;stroke-width:2.0px;stroke-linecap:butt;stroke-linejoin:miter;stroke-opacity:1' />\n<path class='bond-4 atom-4 atom-5' d='M 129.694,159.956 L 139.061,167.432' style='fill:none;fill-rule:evenodd;stroke:#FF0000;stroke-width:2.0px;stroke-linecap:butt;stroke-linejoin:miter;stroke-opacity:1' />\n<path class='bond-4 atom-4 atom-5' d='M 139.061,167.432 L 148.428,174.909' style='fill:none;fill-rule:evenodd;stroke:#000000;stroke-width:2.0px;stroke-linecap:butt;stroke-linejoin:miter;stroke-opacity:1' />\n<path class='bond-5 atom-5 atom-6' d='M 145.471,174.462 L 143.617,186.729' style='fill:none;fill-rule:evenodd;stroke:#000000;stroke-width:2.0px;stroke-linecap:butt;stroke-linejoin:miter;stroke-opacity:1' />\n<path class='bond-5 atom-5 atom-6' d='M 143.617,186.729 L 141.763,198.996' style='fill:none;fill-rule:evenodd;stroke:#FF0000;stroke-width:2.0px;stroke-linecap:butt;stroke-linejoin:miter;stroke-opacity:1' />\n<path class='bond-5 atom-5 atom-6' d='M 151.384,175.356 L 149.53,187.623' style='fill:none;fill-rule:evenodd;stroke:#000000;stroke-width:2.0px;stroke-linecap:butt;stroke-linejoin:miter;stroke-opacity:1' />\n<path class='bond-5 atom-5 atom-6' d='M 149.53,187.623 L 147.675,199.89' style='fill:none;fill-rule:evenodd;stroke:#FF0000;stroke-width:2.0px;stroke-linecap:butt;stroke-linejoin:miter;stroke-opacity:1' />\n<path class='bond-6 atom-5 atom-7' d='M 148.428,174.909 L 160.367,170.229' style='fill:none;fill-rule:evenodd;stroke:#000000;stroke-width:2.0px;stroke-linecap:butt;stroke-linejoin:miter;stroke-opacity:1' />\n<path class='bond-6 atom-5 atom-7' d='M 160.367,170.229 L 172.306,165.549' style='fill:none;fill-rule:evenodd;stroke:#0000FF;stroke-width:2.0px;stroke-linecap:butt;stroke-linejoin:miter;stroke-opacity:1' />\n<path class='bond-7 atom-7 atom-8' d='M 177.018,159.016 L 178.876,146.726' style='fill:none;fill-rule:evenodd;stroke:#0000FF;stroke-width:2.0px;stroke-linecap:butt;stroke-linejoin:miter;stroke-opacity:1' />\n<path class='bond-7 atom-7 atom-8' d='M 178.876,146.726 L 180.734,134.435' style='fill:none;fill-rule:evenodd;stroke:#000000;stroke-width:2.0px;stroke-linecap:butt;stroke-linejoin:miter;stroke-opacity:1' />\n<path class='bond-30 atom-30 atom-7' d='M 199.632,182.649 L 189.928,174.903' style='fill:none;fill-rule:evenodd;stroke:#000000;stroke-width:2.0px;stroke-linecap:butt;stroke-linejoin:miter;stroke-opacity:1' />\n<path class='bond-30 atom-30 atom-7' d='M 189.928,174.903 L 180.223,167.157' style='fill:none;fill-rule:evenodd;stroke:#0000FF;stroke-width:2.0px;stroke-linecap:butt;stroke-linejoin:miter;stroke-opacity:1' />\n<path class='bond-8 atom-8 atom-9' d='M 180.734,134.435 L 208.57,123.523' style='fill:none;fill-rule:evenodd;stroke:#000000;stroke-width:2.0px;stroke-linecap:butt;stroke-linejoin:miter;stroke-opacity:1' />\n<path class='bond-9 atom-9 atom-10' d='M 208.57,123.523 L 231.938,142.175' style='fill:none;fill-rule:evenodd;stroke:#000000;stroke-width:2.0px;stroke-linecap:butt;stroke-linejoin:miter;stroke-opacity:1' />\n<path class='bond-10 atom-10 atom-11' d='M 231.938,142.175 L 243.877,137.495' style='fill:none;fill-rule:evenodd;stroke:#000000;stroke-width:2.0px;stroke-linecap:butt;stroke-linejoin:miter;stroke-opacity:1' />\n<path class='bond-10 atom-10 atom-11' d='M 243.877,137.495 L 255.816,132.816' style='fill:none;fill-rule:evenodd;stroke:#0000FF;stroke-width:2.0px;stroke-linecap:butt;stroke-linejoin:miter;stroke-opacity:1' />\n<path class='bond-26 atom-10 atom-27' d='M 231.938,142.175 L 227.469,171.738' style='fill:none;fill-rule:evenodd;stroke:#000000;stroke-width:2.0px;stroke-linecap:butt;stroke-linejoin:miter;stroke-opacity:1' />\n<path class='bond-11 atom-11 atom-12' d='M 261.072,126.283 L 264.191,114.307' style='fill:none;fill-rule:evenodd;stroke:#0000FF;stroke-width:2.0px;stroke-linecap:butt;stroke-linejoin:miter;stroke-opacity:1' />\n<path class='bond-11 atom-11 atom-12' d='M 264.191,114.307 L 267.31,102.33' style='fill:none;fill-rule:evenodd;stroke:#000000;stroke-width:2.0px;stroke-linecap:butt;stroke-linejoin:miter;stroke-opacity:1' />\n<path class='bond-31 atom-26 atom-11' d='M 281.006,144.84 L 263.616,133.72' style='fill:none;fill-rule:evenodd;stroke:#0000FF;stroke-width:2.0px;stroke-linecap:butt;stroke-linejoin:miter;stroke-opacity:1' />\n<path class='bond-12 atom-12 atom-13' d='M 267.31,102.33 L 297.156,100.555' style='fill:none;fill-rule:evenodd;stroke:#000000;stroke-width:2.0px;stroke-linecap:butt;stroke-linejoin:miter;stroke-opacity:1' />\n<path class='bond-12 atom-12 atom-13' d='M 272.142,108.033 L 293.034,106.791' style='fill:none;fill-rule:evenodd;stroke:#000000;stroke-width:2.0px;stroke-linecap:butt;stroke-linejoin:miter;stroke-opacity:1' />\n<path class='bond-13 atom-13 atom-14' d='M 297.156,100.555 L 313.263,75.3656' style='fill:none;fill-rule:evenodd;stroke:#000000;stroke-width:2.0px;stroke-linecap:butt;stroke-linejoin:miter;stroke-opacity:1' />\n<path class='bond-16 atom-13 atom-17' d='M 297.156,100.555 L 308.067,128.392' style='fill:none;fill-rule:evenodd;stroke:#000000;stroke-width:2.0px;stroke-linecap:butt;stroke-linejoin:miter;stroke-opacity:1' />\n<path class='bond-14 atom-14 atom-15' d='M 313.263,75.3656 L 326.218,75.9531' style='fill:none;fill-rule:evenodd;stroke:#000000;stroke-width:2.0px;stroke-linecap:butt;stroke-linejoin:miter;stroke-opacity:1' />\n<path class='bond-14 atom-14 atom-15' d='M 326.218,75.9531 L 339.172,76.5405' style='fill:none;fill-rule:evenodd;stroke:#0000FF;stroke-width:2.0px;stroke-linecap:butt;stroke-linejoin:miter;stroke-opacity:1' />\n<path class='bond-15 atom-14 atom-16' d='M 315.917,73.9895 L 310.374,63.2979' style='fill:none;fill-rule:evenodd;stroke:#000000;stroke-width:2.0px;stroke-linecap:butt;stroke-linejoin:miter;stroke-opacity:1' />\n<path class='bond-15 atom-14 atom-16' d='M 310.374,63.2979 L 304.832,52.6063' style='fill:none;fill-rule:evenodd;stroke:#FF0000;stroke-width:2.0px;stroke-linecap:butt;stroke-linejoin:miter;stroke-opacity:1' />\n<path class='bond-15 atom-14 atom-16' d='M 310.609,76.7418 L 305.066,66.0501' style='fill:none;fill-rule:evenodd;stroke:#000000;stroke-width:2.0px;stroke-linecap:butt;stroke-linejoin:miter;stroke-opacity:1' />\n<path class='bond-15 atom-14 atom-16' d='M 305.066,66.0501 L 299.523,55.3585' style='fill:none;fill-rule:evenodd;stroke:#FF0000;stroke-width:2.0px;stroke-linecap:butt;stroke-linejoin:miter;stroke-opacity:1' />\n<path class='bond-17 atom-17 atom-18' d='M 308.067,128.392 L 320.555,131.644' style='fill:none;fill-rule:evenodd;stroke:#000000;stroke-width:2.0px;stroke-linecap:butt;stroke-linejoin:miter;stroke-opacity:1' />\n<path class='bond-17 atom-17 atom-18' d='M 320.555,131.644 L 333.042,134.896' style='fill:none;fill-rule:evenodd;stroke:#0000FF;stroke-width:2.0px;stroke-linecap:butt;stroke-linejoin:miter;stroke-opacity:1' />\n<path class='bond-25 atom-17 atom-26' d='M 308.067,128.392 L 298.495,136.255' style='fill:none;fill-rule:evenodd;stroke:#000000;stroke-width:2.0px;stroke-linecap:butt;stroke-linejoin:miter;stroke-opacity:1' />\n<path class='bond-25 atom-17 atom-26' d='M 298.495,136.255 L 288.923,144.119' style='fill:none;fill-rule:evenodd;stroke:#0000FF;stroke-width:2.0px;stroke-linecap:butt;stroke-linejoin:miter;stroke-opacity:1' />\n<path class='bond-25 atom-17 atom-26' d='M 301.4,126.13 L 294.699,131.635' style='fill:none;fill-rule:evenodd;stroke:#000000;stroke-width:2.0px;stroke-linecap:butt;stroke-linejoin:miter;stroke-opacity:1' />\n<path class='bond-25 atom-17 atom-26' d='M 294.699,131.635 L 287.999,137.139' style='fill:none;fill-rule:evenodd;stroke:#0000FF;stroke-width:2.0px;stroke-linecap:butt;stroke-linejoin:miter;stroke-opacity:1' />\n<path class='bond-18 atom-18 atom-19' d='M 338.373,140.908 L 341.658,152.83' style='fill:none;fill-rule:evenodd;stroke:#0000FF;stroke-width:2.0px;stroke-linecap:butt;stroke-linejoin:miter;stroke-opacity:1' />\n<path class='bond-18 atom-18 atom-19' d='M 341.658,152.83 L 344.943,164.751' style='fill:none;fill-rule:evenodd;stroke:#000000;stroke-width:2.0px;stroke-linecap:butt;stroke-linejoin:miter;stroke-opacity:1' />\n<path class='bond-19 atom-19 atom-20' d='M 344.943,164.751 L 323.95,186.042' style='fill:none;fill-rule:evenodd;stroke:#000000;stroke-width:2.0px;stroke-linecap:butt;stroke-linejoin:miter;stroke-opacity:1' />\n<path class='bond-19 atom-19 atom-20' d='M 346.052,172.143 L 331.357,187.046' style='fill:none;fill-rule:evenodd;stroke:#000000;stroke-width:2.0px;stroke-linecap:butt;stroke-linejoin:miter;stroke-opacity:1' />\n<path class='bond-32 atom-25 atom-19' d='M 373.877,172.286 L 344.943,164.751' style='fill:none;fill-rule:evenodd;stroke:#000000;stroke-width:2.0px;stroke-linecap:butt;stroke-linejoin:miter;stroke-opacity:1' />\n<path class='bond-20 atom-20 atom-21' d='M 323.95,186.042 L 331.892,214.866' style='fill:none;fill-rule:evenodd;stroke:#000000;stroke-width:2.0px;stroke-linecap:butt;stroke-linejoin:miter;stroke-opacity:1' />\n<path class='bond-21 atom-21 atom-22' d='M 331.892,214.866 L 360.826,222.401' style='fill:none;fill-rule:evenodd;stroke:#000000;stroke-width:2.0px;stroke-linecap:butt;stroke-linejoin:miter;stroke-opacity:1' />\n<path class='bond-21 atom-21 atom-22' d='M 337.739,210.21 L 357.993,215.484' style='fill:none;fill-rule:evenodd;stroke:#000000;stroke-width:2.0px;stroke-linecap:butt;stroke-linejoin:miter;stroke-opacity:1' />\n<path class='bond-22 atom-22 atom-23' d='M 360.826,222.401 L 364.111,234.323' style='fill:none;fill-rule:evenodd;stroke:#000000;stroke-width:2.0px;stroke-linecap:butt;stroke-linejoin:miter;stroke-opacity:1' />\n<path class='bond-22 atom-22 atom-23' d='M 364.111,234.323 L 367.395,246.245' style='fill:none;fill-rule:evenodd;stroke:#33CCCC;stroke-width:2.0px;stroke-linecap:butt;stroke-linejoin:miter;stroke-opacity:1' />\n<path class='bond-23 atom-22 atom-24' d='M 360.826,222.401 L 381.818,201.111' style='fill:none;fill-rule:evenodd;stroke:#000000;stroke-width:2.0px;stroke-linecap:butt;stroke-linejoin:miter;stroke-opacity:1' />\n<path class='bond-24 atom-24 atom-25' d='M 381.818,201.111 L 373.877,172.286' style='fill:none;fill-rule:evenodd;stroke:#000000;stroke-width:2.0px;stroke-linecap:butt;stroke-linejoin:miter;stroke-opacity:1' />\n<path class='bond-24 atom-24 atom-25' d='M 374.862,198.376 L 369.303,178.198' style='fill:none;fill-rule:evenodd;stroke:#000000;stroke-width:2.0px;stroke-linecap:butt;stroke-linejoin:miter;stroke-opacity:1' />\n<path class='bond-27 atom-27 atom-28' d='M 227.469,171.738 L 250.837,190.39' style='fill:none;fill-rule:evenodd;stroke:#000000;stroke-width:2.0px;stroke-linecap:butt;stroke-linejoin:miter;stroke-opacity:1' />\n<path class='bond-29 atom-27 atom-30' d='M 227.469,171.738 L 199.632,182.649' style='fill:none;fill-rule:evenodd;stroke:#000000;stroke-width:2.0px;stroke-linecap:butt;stroke-linejoin:miter;stroke-opacity:1' />\n<path class='bond-28 atom-28 atom-29' d='M 250.837,190.39 L 260.542,198.136' style='fill:none;fill-rule:evenodd;stroke:#000000;stroke-width:2.0px;stroke-linecap:butt;stroke-linejoin:miter;stroke-opacity:1' />\n<path class='bond-28 atom-28 atom-29' d='M 260.542,198.136 L 270.246,205.882' style='fill:none;fill-rule:evenodd;stroke:#0000FF;stroke-width:2.0px;stroke-linecap:butt;stroke-linejoin:miter;stroke-opacity:1' />\n<path class='bond-28 atom-28 atom-29' d='M 250.018,197.387 L 258.267,203.971' style='fill:none;fill-rule:evenodd;stroke:#000000;stroke-width:2.0px;stroke-linecap:butt;stroke-linejoin:miter;stroke-opacity:1' />\n<path class='bond-28 atom-28 atom-29' d='M 258.267,203.971 L 266.516,210.556' style='fill:none;fill-rule:evenodd;stroke:#0000FF;stroke-width:2.0px;stroke-linecap:butt;stroke-linejoin:miter;stroke-opacity:1' />\n<path class='bond-28 atom-28 atom-29' d='M 257.479,188.04 L 265.728,194.624' style='fill:none;fill-rule:evenodd;stroke:#000000;stroke-width:2.0px;stroke-linecap:butt;stroke-linejoin:miter;stroke-opacity:1' />\n<path class='bond-28 atom-28 atom-29' d='M 265.728,194.624 L 273.976,201.209' style='fill:none;fill-rule:evenodd;stroke:#0000FF;stroke-width:2.0px;stroke-linecap:butt;stroke-linejoin:miter;stroke-opacity:1' />\n<path  class='atom-4' d='M 121.173 156.281\nQ 121.173 154.248, 122.178 153.112\nQ 123.182 151.975, 125.06 151.975\nQ 126.938 151.975, 127.942 153.112\nQ 128.947 154.248, 128.947 156.281\nQ 128.947 158.338, 127.93 159.51\nQ 126.914 160.67, 125.06 160.67\nQ 123.194 160.67, 122.178 159.51\nQ 121.173 158.35, 121.173 156.281\nM 125.06 159.713\nQ 126.352 159.713, 127.045 158.852\nQ 127.751 157.979, 127.751 156.281\nQ 127.751 154.619, 127.045 153.781\nQ 126.352 152.932, 125.06 152.932\nQ 123.768 152.932, 123.063 153.769\nQ 122.369 154.607, 122.369 156.281\nQ 122.369 157.991, 123.063 158.852\nQ 123.768 159.713, 125.06 159.713\n' fill='#FF0000'/>\n<path  class='atom-6' d='M 140.072 204.496\nQ 140.072 202.463, 141.076 201.326\nQ 142.081 200.19, 143.959 200.19\nQ 145.836 200.19, 146.841 201.326\nQ 147.846 202.463, 147.846 204.496\nQ 147.846 206.553, 146.829 207.725\nQ 145.812 208.885, 143.959 208.885\nQ 142.093 208.885, 141.076 207.725\nQ 140.072 206.565, 140.072 204.496\nM 143.959 207.928\nQ 145.25 207.928, 145.944 207.067\nQ 146.65 206.194, 146.65 204.496\nQ 146.65 202.833, 145.944 201.996\nQ 145.25 201.147, 143.959 201.147\nQ 142.667 201.147, 141.961 201.984\nQ 141.268 202.821, 141.268 204.496\nQ 141.268 206.206, 141.961 207.067\nQ 142.667 207.928, 143.959 207.928\n' fill='#FF0000'/>\n<path  class='atom-7' d='M 174.393 159.764\nL 177.168 164.249\nQ 177.443 164.691, 177.885 165.493\nQ 178.328 166.294, 178.352 166.342\nL 178.352 159.764\nL 179.476 159.764\nL 179.476 168.231\nL 178.316 168.231\nL 175.338 163.328\nQ 174.991 162.754, 174.62 162.096\nQ 174.261 161.438, 174.154 161.235\nL 174.154 168.231\nL 173.053 168.231\nL 173.053 159.764\nL 174.393 159.764\n' fill='#0000FF'/>\n<path  class='atom-11' d='M 257.903 127.03\nL 260.678 131.515\nQ 260.953 131.958, 261.396 132.759\nQ 261.838 133.56, 261.862 133.608\nL 261.862 127.03\nL 262.986 127.03\nL 262.986 135.498\nL 261.826 135.498\nL 258.848 130.594\nQ 258.501 130.02, 258.131 129.362\nQ 257.772 128.705, 257.664 128.501\nL 257.664 135.498\nL 256.564 135.498\nL 256.564 127.03\nL 257.903 127.03\n' fill='#0000FF'/>\n<path  class='atom-15' d='M 341.259 72.4864\nL 344.034 76.9712\nQ 344.309 77.4137, 344.752 78.215\nQ 345.194 79.0163, 345.218 79.0641\nL 345.218 72.4864\nL 346.342 72.4864\nL 346.342 80.9537\nL 345.182 80.9537\nL 342.204 76.0503\nQ 341.857 75.4762, 341.487 74.8185\nQ 341.128 74.1607, 341.02 73.9574\nL 341.02 80.9537\nL 339.92 80.9537\nL 339.92 72.4864\nL 341.259 72.4864\n' fill='#0000FF'/>\n<path  class='atom-15' d='M 347.359 72.4864\nL 348.507 72.4864\nL 348.507 76.0862\nL 352.836 76.0862\nL 352.836 72.4864\nL 353.984 72.4864\nL 353.984 80.9537\nL 352.836 80.9537\nL 352.836 77.0429\nL 348.507 77.0429\nL 348.507 80.9537\nL 347.359 80.9537\nL 347.359 72.4864\n' fill='#0000FF'/>\n<path  class='atom-15' d='M 354.395 80.6566\nQ 354.6 80.1278, 355.089 79.8357\nQ 355.579 79.5358, 356.258 79.5358\nQ 357.102 79.5358, 357.576 79.9936\nQ 358.049 80.4514, 358.049 81.2644\nQ 358.049 82.0932, 357.434 82.8668\nQ 356.826 83.6403, 355.563 84.5559\nL 358.144 84.5559\nL 358.144 85.1874\nL 354.379 85.1874\nL 354.379 84.6585\nQ 355.421 83.9166, 356.037 83.364\nQ 356.66 82.8115, 356.96 82.3142\nQ 357.26 81.817, 357.26 81.3039\nQ 357.26 80.7671, 356.992 80.4672\nQ 356.723 80.1673, 356.258 80.1673\nQ 355.808 80.1673, 355.508 80.3488\nQ 355.208 80.5303, 354.995 80.9329\nL 354.395 80.6566\n' fill='#0000FF'/>\n<path  class='atom-16' d='M 295.615 48.8458\nQ 295.615 46.8127, 296.62 45.6765\nQ 297.624 44.5403, 299.502 44.5403\nQ 301.379 44.5403, 302.384 45.6765\nQ 303.389 46.8127, 303.389 48.8458\nQ 303.389 50.9028, 302.372 52.0749\nQ 301.355 53.2349, 299.502 53.2349\nQ 297.636 53.2349, 296.62 52.0749\nQ 295.615 50.9148, 295.615 48.8458\nM 299.502 52.2782\nQ 300.793 52.2782, 301.487 51.4171\nQ 302.193 50.544, 302.193 48.8458\nQ 302.193 47.1834, 301.487 46.3462\nQ 300.793 45.4971, 299.502 45.4971\nQ 298.21 45.4971, 297.505 46.3343\nQ 296.811 47.1714, 296.811 48.8458\nQ 296.811 50.556, 297.505 51.4171\nQ 298.21 52.2782, 299.502 52.2782\n' fill='#FF0000'/>\n<path  class='atom-18' d='M 335.129 131.693\nL 337.904 136.178\nQ 338.179 136.62, 338.621 137.422\nQ 339.064 138.223, 339.088 138.271\nL 339.088 131.693\nL 340.212 131.693\nL 340.212 140.16\nL 339.052 140.16\nL 336.074 135.257\nQ 335.727 134.683, 335.357 134.025\nQ 334.998 133.367, 334.89 133.164\nL 334.89 140.16\nL 333.79 140.16\nL 333.79 131.693\nL 335.129 131.693\n' fill='#0000FF'/>\n<path  class='atom-18' d='M 341.229 131.693\nL 342.377 131.693\nL 342.377 135.293\nL 346.706 135.293\nL 346.706 131.693\nL 347.854 131.693\nL 347.854 140.16\nL 346.706 140.16\nL 346.706 136.249\nL 342.377 136.249\nL 342.377 140.16\nL 341.229 140.16\nL 341.229 131.693\n' fill='#0000FF'/>\n<path  class='atom-23' d='M 366.25 246.992\nL 371.285 246.992\nL 371.285 247.961\nL 367.386 247.961\nL 367.386 250.532\nL 370.855 250.532\nL 370.855 251.513\nL 367.386 251.513\nL 367.386 255.46\nL 366.25 255.46\nL 366.25 246.992\n' fill='#33CCCC'/>\n<path  class='atom-26' d='M 283.093 143.137\nL 285.867 147.622\nQ 286.142 148.065, 286.585 148.866\nQ 287.027 149.667, 287.051 149.715\nL 287.051 143.137\nL 288.176 143.137\nL 288.176 151.605\nL 287.015 151.605\nL 284.038 146.701\nQ 283.691 146.127, 283.32 145.469\nQ 282.961 144.812, 282.854 144.608\nL 282.854 151.605\nL 281.753 151.605\nL 281.753 143.137\nL 283.093 143.137\n' fill='#0000FF'/>\n<path  class='atom-29' d='M 272.333 204.808\nL 275.108 209.293\nQ 275.383 209.735, 275.825 210.537\nQ 276.268 211.338, 276.292 211.386\nL 276.292 204.808\nL 277.416 204.808\nL 277.416 213.275\nL 276.256 213.275\nL 273.278 208.372\nQ 272.931 207.798, 272.56 207.14\nQ 272.201 206.482, 272.094 206.279\nL 272.094 213.275\nL 270.994 213.275\nL 270.994 204.808\nL 272.333 204.808\n' fill='#0000FF'/>\n</svg>\n"
          },
          "metadata": {
            "tags": []
          },
          "execution_count": 5
        }
      ]
    },
    {
      "cell_type": "markdown",
      "metadata": {
        "id": "permanent-client"
      },
      "source": [
        "# Tokenization"
      ],
      "id": "permanent-client"
    },
    {
      "cell_type": "markdown",
      "metadata": {
        "id": "characteristic-increase"
      },
      "source": [
        "For text-based models, here is a tokenizer that can be used"
      ],
      "id": "characteristic-increase"
    },
    {
      "cell_type": "code",
      "metadata": {
        "id": "congressional-morning"
      },
      "source": [
        "def smiles_tokenizer(smi):\n",
        "    \"\"\" \n",
        "    Tokenize a SMILES string representation of a molecule\n",
        "    Returns a list of tokens in SMILES vocabulary\n",
        "    \"\"\"\n",
        "    import re\n",
        "    pattern =  \"(\\[[^\\]]+]|Br?|Cl?|N|O|S|P|F|I|b|c|n|o|s|p|\\(|\\)|\\.|=|#|-|\\+|\\\\\\\\|\\/|:|~|@|\\?|>|\\*|\\$|\\%[0-9]{2}|[0-9])\"\n",
        "    regex = re.compile(pattern)\n",
        "    tokens = [token for token in regex.findall(smi)]\n",
        "    assert smi == ''.join(tokens)\n",
        "    return tokens"
      ],
      "id": "congressional-morning",
      "execution_count": 6,
      "outputs": []
    },
    {
      "cell_type": "code",
      "metadata": {
        "id": "b8c71614-497f-402f-83ba-340f1b39a615"
      },
      "source": [
        "df_pIC50 = df[df['measurement_type']=='pIC50']\n",
        "df_pKi   = df[df['measurement_type']=='pKi'].sample(frac=1)\n",
        "\n"
      ],
      "id": "b8c71614-497f-402f-83ba-340f1b39a615",
      "execution_count": 109,
      "outputs": []
    },
    {
      "cell_type": "code",
      "metadata": {
        "id": "cbfd4abd-ccff-4246-a5ce-4ef457054f52"
      },
      "source": [
        "def pivot(df):\n",
        "    dfp=df.pivot(index='SMILES',columns=['Kinase_name','measurement_type'],values='measurement_value')\n",
        "    return dfp.sort_index(axis=1,level=[1,0])\n"
      ],
      "id": "cbfd4abd-ccff-4246-a5ce-4ef457054f52",
      "execution_count": 110,
      "outputs": []
    },
    {
      "cell_type": "code",
      "metadata": {
        "colab": {
          "base_uri": "https://localhost:8080/"
        },
        "id": "1e08c038-afd7-466f-b9a5-b96d5439cc0c",
        "outputId": "96698bd9-98c6-4bba-bb19-2f915361310b"
      },
      "source": [
        "#N=df_pKi.shape[0]\n",
        "#ntest=int(0.2*N)\n",
        "#df_test = df_pKi.iloc[:ntest]\n",
        "#df_train = pd.concat([df_pKi.iloc[ntest:],df_pIC50]).sample(frac=1)\n",
        "#dfp_train = pivot(df_train)\n",
        "#dfp_test = pivot(df_test)\n",
        "#print(dfp_train.head())\n",
        "#print(dfp_test.head())\n",
        "\n",
        "dfp=pivot(df).sample(frac=1)\n",
        "pki=dfp.iloc[:,-4:].notna().any(axis=1)\n",
        "dfp_pki = dfp[dfp.iloc[:,-4:].notna().any(axis=1)]\n",
        "dfp_no_pki = dfp[dfp.iloc[:,-4:].isna().all(axis=1)]\n",
        "N=pki[pki].shape[0]\n",
        "ntest=int(0.2*N)\n",
        "dfp_test = dfp_pki.iloc[:ntest]\n",
        "dfp_train = pd.concat([dfp_pki.iloc[ntest:],dfp_no_pki])\n",
        "print(dfp.shape)\n",
        "print(dfp_test.shape)\n",
        "print(dfp_train.shape)\n",
        "print(dfp_test.count())\n",
        "print(dfp_train.count())"
      ],
      "id": "1e08c038-afd7-466f-b9a5-b96d5439cc0c",
      "execution_count": 138,
      "outputs": [
        {
          "output_type": "stream",
          "text": [
            "(4528, 8)\n",
            "(196, 8)\n",
            "(4332, 8)\n",
            "Kinase_name  measurement_type\n",
            "JAK1         pIC50                 7\n",
            "JAK2         pIC50                29\n",
            "JAK3         pIC50                27\n",
            "TYK2         pIC50                 3\n",
            "JAK1         pKi                 130\n",
            "JAK2         pKi                 155\n",
            "JAK3         pKi                  69\n",
            "TYK2         pKi                  35\n",
            "dtype: int64\n",
            "Kinase_name  measurement_type\n",
            "JAK1         pIC50               3193\n",
            "JAK2         pIC50               3035\n",
            "JAK3         pIC50               1853\n",
            "TYK2         pIC50                589\n",
            "JAK1         pKi                  555\n",
            "JAK2         pKi                  649\n",
            "JAK3         pKi                  268\n",
            "TYK2         pKi                  128\n",
            "dtype: int64\n"
          ],
          "name": "stdout"
        }
      ]
    },
    {
      "cell_type": "code",
      "metadata": {
        "id": "6IjxYJ8KI-GZ",
        "outputId": "5def2392-70ae-4da1-e8ea-6271f252e34c",
        "colab": {
          "base_uri": "https://localhost:8080/"
        }
      },
      "source": [
        "import torchtext\n",
        "import torch\n",
        "\n",
        "vocab = torchtext.vocab.build_vocab_from_iterator(map(smiles_tokenizer,df['SMILES']),specials=['<pad>'])\n",
        "vocab.get_stoi()"
      ],
      "id": "6IjxYJ8KI-GZ",
      "execution_count": 89,
      "outputs": [
        {
          "output_type": "execute_result",
          "data": {
            "text/plain": [
              "{'#': 17,\n",
              " '(': 3,\n",
              " ')': 4,\n",
              " '-': 15,\n",
              " '1': 6,\n",
              " '2': 7,\n",
              " '3': 10,\n",
              " '4': 12,\n",
              " '5': 16,\n",
              " '6': 21,\n",
              " '7': 30,\n",
              " '<pad>': 0,\n",
              " '=': 11,\n",
              " 'Br': 23,\n",
              " 'C': 2,\n",
              " 'Cl': 19,\n",
              " 'F': 13,\n",
              " 'I': 28,\n",
              " 'N': 8,\n",
              " 'O': 9,\n",
              " 'P': 27,\n",
              " 'S': 18,\n",
              " '[C+]': 32,\n",
              " '[C-]': 25,\n",
              " '[C]': 26,\n",
              " '[N+]': 24,\n",
              " '[O-]': 29,\n",
              " '[Si]': 33,\n",
              " '[n+]': 31,\n",
              " '[nH]': 14,\n",
              " 'c': 1,\n",
              " 'n': 5,\n",
              " 'o': 22,\n",
              " 's': 20}"
            ]
          },
          "metadata": {
            "tags": []
          },
          "execution_count": 89
        }
      ]
    },
    {
      "cell_type": "code",
      "metadata": {
        "id": "aMzrXZGrZa6O"
      },
      "source": [
        "import math\n",
        "import torch.nn as nn\n",
        "import torch.nn.functional as F\n",
        "from torch.nn import TransformerEncoder, TransformerEncoderLayer\n",
        "\n",
        "\n",
        "\n",
        "class TransformerModel(nn.Module):\n",
        "\n",
        "    def __init__(self, ntoken, ninp, nhead, nhid, nlayers, dropout=0.5):\n",
        "        super(TransformerModel, self).__init__()\n",
        "        self.model_type = 'Transformer'\n",
        "        self.pos_encoder = PositionalEncoding(ninp, dropout)\n",
        "        encoder_layers = TransformerEncoderLayer(ninp, nhead, nhid, dropout)\n",
        "        self.transformer_encoder = TransformerEncoder(encoder_layers, nlayers)\n",
        "        self.encoder = nn.Embedding(ntoken, ninp)\n",
        "        self.ninp = ninp\n",
        "        self.decoder = nn.Linear(ninp, ntoken)\n",
        "\n",
        "        self.init_weights()\n",
        "\n",
        "    def init_weights(self):\n",
        "        initrange = 0.1\n",
        "        self.encoder.weight.data.uniform_(-initrange, initrange)\n",
        "        self.decoder.bias.data.zero_()\n",
        "        self.decoder.weight.data.uniform_(-initrange, initrange)\n",
        "\n",
        "    def forward(self, src, src_mask=None):\n",
        "        src = self.encoder(src) * math.sqrt(self.ninp)\n",
        "        src = self.pos_encoder(src)\n",
        "        output = self.transformer_encoder(src, src_mask)\n",
        "        output = self.decoder(output)\n",
        "        return output"
      ],
      "id": "aMzrXZGrZa6O",
      "execution_count": 23,
      "outputs": []
    },
    {
      "cell_type": "code",
      "metadata": {
        "id": "k0wxHCjOZj9r"
      },
      "source": [
        "class PositionalEncoding(torch.nn.Module):\n",
        "\n",
        "    def __init__(self, d_model, dropout=0.1, max_len=5000):\n",
        "        super(PositionalEncoding, self).__init__()\n",
        "        self.dropout = nn.Dropout(p=dropout)\n",
        "\n",
        "        pe = torch.zeros(max_len, d_model)\n",
        "        position = torch.arange(0, max_len, dtype=torch.float).unsqueeze(1)\n",
        "        div_term = torch.exp(torch.arange(0, d_model, 2).float() * (-math.log(10000.0) / d_model))\n",
        "        pe[:, 0::2] = torch.sin(position * div_term)\n",
        "        pe[:, 1::2] = torch.cos(position * div_term)\n",
        "        pe = pe.unsqueeze(0).transpose(0, 1)\n",
        "        self.register_buffer('pe', pe)\n",
        "\n",
        "    def forward(self, x):\n",
        "        x = x + self.pe[:x.size(0), :]\n",
        "        return self.dropout(x)"
      ],
      "id": "k0wxHCjOZj9r",
      "execution_count": 142,
      "outputs": []
    },
    {
      "cell_type": "code",
      "metadata": {
        "id": "e0pT1JAlv94V"
      },
      "source": [
        "max_string_len=100\n",
        "def data_process(df):\n",
        "  X = torch.zeros((df.shape[0],max_string_len),dtype=torch.long)\n",
        "  for i,row in enumerate(df.itertuples()):\n",
        "    u=vocab(smiles_tokenizer(row[0]))\n",
        "    X[i,:len(u)] = torch.tensor(u,dtype=torch.long)\n",
        "  \n",
        "  Y = torch.tensor(df.values)\n",
        "  dataset = torch.utils.data.TensorDataset(X, Y)\n",
        "  return dataset"
      ],
      "id": "e0pT1JAlv94V",
      "execution_count": 101,
      "outputs": []
    },
    {
      "cell_type": "code",
      "metadata": {
        "id": "wG1eHb9jZwJJ",
        "outputId": "ab9e01bb-f810-4288-d3c0-5b8448e5821f",
        "colab": {
          "base_uri": "https://localhost:8080/"
        }
      },
      "source": [
        "import torch\n",
        "\n",
        "train_dataset = data_process(dfp_train)\n",
        "train_loader = torch.utils.data.DataLoader(train_dataset, batch_size=2, shuffle=True)\n",
        "test_dataset = data_process(dfp_test)\n",
        "test_loader = torch.utils.data.DataLoader(test_dataset, batch_size=2, shuffle=True)\n",
        "\n",
        "device = torch.device(\"cuda\" if torch.cuda.is_available() else \"cpu\")\n",
        "\n",
        "\n",
        "\n",
        "\n"
      ],
      "id": "wG1eHb9jZwJJ",
      "execution_count": 139,
      "outputs": [
        {
          "output_type": "stream",
          "text": [
            "torch.Size([4332, 100]) torch.Size([4332, 8])\n",
            "torch.Size([196, 100]) torch.Size([196, 8])\n"
          ],
          "name": "stdout"
        }
      ]
    },
    {
      "cell_type": "code",
      "metadata": {
        "id": "MCybK-fcIhTc"
      },
      "source": [
        "ntokens = len(vocab) # the size of vocabulary\n",
        "emsize = 200 # embedding dimension\n",
        "nhid = 200 # the dimension of the feedforward network model in nn.TransformerEncoder\n",
        "nlayers = 2 # the number of nn.TransformerEncoderLayer in nn.TransformerEncoder\n",
        "nhead = 2 # the number of heads in the multiheadattention models\n",
        "dropout = 0.2 # the dropout value\n",
        "model = TransformerModel(ntokens, emsize, nhead, nhid, nlayers, dropout).to(device)"
      ],
      "id": "MCybK-fcIhTc",
      "execution_count": 141,
      "outputs": []
    },
    {
      "cell_type": "code",
      "metadata": {
        "id": "VPCjM-eCL7uB"
      },
      "source": [
        "import time\n",
        "\n",
        "criterion = nn.CrossEntropyLoss()\n",
        "lr = 5.0 # learning rate\n",
        "optimizer = torch.optim.SGD(model.parameters(), lr=lr)\n",
        "scheduler = torch.optim.lr_scheduler.StepLR(optimizer, 1.0, gamma=0.95)\n",
        "\n",
        "def train():\n",
        "    model.train() # Turn on the train mode\n",
        "    total_loss = 0.\n",
        "    start_time = time.time()\n",
        "    src_mask = model.generate_square_subsequent_mask(bptt).to(device)\n",
        "    for batch, i in enumerate(range(0, train_data.size(0) - 1, bptt)):\n",
        "        data, targets = get_batch(train_data, i)\n",
        "        optimizer.zero_grad()\n",
        "        if data.size(0) != bptt:\n",
        "            src_mask = model.generate_square_subsequent_mask(data.size(0)).to(device)\n",
        "        output = model(data, src_mask)\n",
        "        loss = criterion(output.view(-1, ntokens), targets)\n",
        "        loss.backward()\n",
        "        torch.nn.utils.clip_grad_norm_(model.parameters(), 0.5)\n",
        "        optimizer.step()\n",
        "\n",
        "        total_loss += loss.item()\n",
        "        log_interval = 200\n",
        "        if batch % log_interval == 0 and batch > 0:\n",
        "            cur_loss = total_loss / log_interval\n",
        "            elapsed = time.time() - start_time\n",
        "            print('| epoch {:3d} | {:5d}/{:5d} batches | '\n",
        "                  'lr {:02.2f} | ms/batch {:5.2f} | '\n",
        "                  'loss {:5.2f} | ppl {:8.2f}'.format(\n",
        "                    epoch, batch, len(train_data) // bptt, scheduler.get_last_lr()[0],\n",
        "                    elapsed * 1000 / log_interval,\n",
        "                    cur_loss, math.exp(cur_loss)))\n",
        "            total_loss = 0\n",
        "            start_time = time.time()\n",
        "\n",
        "def evaluate(eval_model, data_source):\n",
        "    eval_model.eval() # Turn on the evaluation mode\n",
        "    total_loss = 0.\n",
        "    src_mask = model.generate_square_subsequent_mask(bptt).to(device)\n",
        "    with torch.no_grad():\n",
        "        for i in range(0, data_source.size(0) - 1, bptt):\n",
        "            data, targets = get_batch(data_source, i)\n",
        "            if data.size(0) != bptt:\n",
        "                src_mask = model.generate_square_subsequent_mask(data.size(0)).to(device)\n",
        "            output = eval_model(data, src_mask)\n",
        "            output_flat = output.view(-1, ntokens)\n",
        "            total_loss += len(data) * criterion(output_flat, targets).item()\n",
        "    return total_loss / (len(data_source) - 1)\n"
      ],
      "id": "VPCjM-eCL7uB",
      "execution_count": 140,
      "outputs": []
    }
  ]
}