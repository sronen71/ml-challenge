{
  "nbformat": 4,
  "nbformat_minor": 5,
  "metadata": {
    "kernelspec": {
      "name": "python3",
      "display_name": "Python 3"
    },
    "colab": {
      "name": "kinase_challenge_data.ipynb",
      "provenance": []
    },
    "accelerator": "GPU",
    "language_info": {
      "name": "python"
    },
    "widgets": {
      "application/vnd.jupyter.widget-state+json": {
        "5c3cdd424ce54d2d8582b0bde8edd231": {
          "model_module": "@jupyter-widgets/controls",
          "model_name": "VBoxModel",
          "state": {
            "_view_name": "VBoxView",
            "_dom_classes": [],
            "_model_name": "VBoxModel",
            "_view_module": "@jupyter-widgets/controls",
            "_model_module_version": "1.5.0",
            "_view_count": null,
            "_view_module_version": "1.5.0",
            "box_style": "",
            "layout": "IPY_MODEL_fb21b32e6b78460a9b4793f0196210a3",
            "_model_module": "@jupyter-widgets/controls",
            "children": [
              "IPY_MODEL_eed60a36728b4f329efab74be1af3591",
              "IPY_MODEL_e00065d7f2084f4d96f0b99dffd1259a"
            ]
          }
        },
        "fb21b32e6b78460a9b4793f0196210a3": {
          "model_module": "@jupyter-widgets/base",
          "model_name": "LayoutModel",
          "state": {
            "_view_name": "LayoutView",
            "grid_template_rows": null,
            "right": null,
            "justify_content": null,
            "_view_module": "@jupyter-widgets/base",
            "overflow": null,
            "_model_module_version": "1.2.0",
            "_view_count": null,
            "flex_flow": null,
            "width": null,
            "min_width": null,
            "border": null,
            "align_items": null,
            "bottom": null,
            "_model_module": "@jupyter-widgets/base",
            "top": null,
            "grid_column": null,
            "overflow_y": null,
            "overflow_x": null,
            "grid_auto_flow": null,
            "grid_area": null,
            "grid_template_columns": null,
            "flex": null,
            "_model_name": "LayoutModel",
            "justify_items": null,
            "grid_row": null,
            "max_height": null,
            "align_content": null,
            "visibility": null,
            "align_self": null,
            "height": null,
            "min_height": null,
            "padding": null,
            "grid_auto_rows": null,
            "grid_gap": null,
            "max_width": null,
            "order": null,
            "_view_module_version": "1.2.0",
            "grid_template_areas": null,
            "object_position": null,
            "object_fit": null,
            "grid_auto_columns": null,
            "margin": null,
            "display": null,
            "left": null
          }
        },
        "eed60a36728b4f329efab74be1af3591": {
          "model_module": "@jupyter-widgets/controls",
          "model_name": "LabelModel",
          "state": {
            "_view_name": "LabelView",
            "style": "IPY_MODEL_15954f9a87134fb2a7cddf770588e08f",
            "_dom_classes": [],
            "description": "",
            "_model_name": "LabelModel",
            "placeholder": "​",
            "_view_module": "@jupyter-widgets/controls",
            "_model_module_version": "1.5.0",
            "value": " 0.04MB of 0.04MB uploaded (0.00MB deduped)\r",
            "_view_count": null,
            "_view_module_version": "1.5.0",
            "description_tooltip": null,
            "_model_module": "@jupyter-widgets/controls",
            "layout": "IPY_MODEL_9854ef0caead40d1b7aaa561ae70b2ed"
          }
        },
        "e00065d7f2084f4d96f0b99dffd1259a": {
          "model_module": "@jupyter-widgets/controls",
          "model_name": "FloatProgressModel",
          "state": {
            "_view_name": "ProgressView",
            "style": "IPY_MODEL_877f8d1ab4584337b1d9d8d574ae7798",
            "_dom_classes": [],
            "description": "",
            "_model_name": "FloatProgressModel",
            "bar_style": "",
            "max": 1,
            "_view_module": "@jupyter-widgets/controls",
            "_model_module_version": "1.5.0",
            "value": 1,
            "_view_count": null,
            "_view_module_version": "1.5.0",
            "orientation": "horizontal",
            "min": 0,
            "description_tooltip": null,
            "_model_module": "@jupyter-widgets/controls",
            "layout": "IPY_MODEL_e1ceaf45fde746ae87bc09bedc66ed27"
          }
        },
        "15954f9a87134fb2a7cddf770588e08f": {
          "model_module": "@jupyter-widgets/controls",
          "model_name": "DescriptionStyleModel",
          "state": {
            "_view_name": "StyleView",
            "_model_name": "DescriptionStyleModel",
            "description_width": "",
            "_view_module": "@jupyter-widgets/base",
            "_model_module_version": "1.5.0",
            "_view_count": null,
            "_view_module_version": "1.2.0",
            "_model_module": "@jupyter-widgets/controls"
          }
        },
        "9854ef0caead40d1b7aaa561ae70b2ed": {
          "model_module": "@jupyter-widgets/base",
          "model_name": "LayoutModel",
          "state": {
            "_view_name": "LayoutView",
            "grid_template_rows": null,
            "right": null,
            "justify_content": null,
            "_view_module": "@jupyter-widgets/base",
            "overflow": null,
            "_model_module_version": "1.2.0",
            "_view_count": null,
            "flex_flow": null,
            "width": null,
            "min_width": null,
            "border": null,
            "align_items": null,
            "bottom": null,
            "_model_module": "@jupyter-widgets/base",
            "top": null,
            "grid_column": null,
            "overflow_y": null,
            "overflow_x": null,
            "grid_auto_flow": null,
            "grid_area": null,
            "grid_template_columns": null,
            "flex": null,
            "_model_name": "LayoutModel",
            "justify_items": null,
            "grid_row": null,
            "max_height": null,
            "align_content": null,
            "visibility": null,
            "align_self": null,
            "height": null,
            "min_height": null,
            "padding": null,
            "grid_auto_rows": null,
            "grid_gap": null,
            "max_width": null,
            "order": null,
            "_view_module_version": "1.2.0",
            "grid_template_areas": null,
            "object_position": null,
            "object_fit": null,
            "grid_auto_columns": null,
            "margin": null,
            "display": null,
            "left": null
          }
        },
        "877f8d1ab4584337b1d9d8d574ae7798": {
          "model_module": "@jupyter-widgets/controls",
          "model_name": "ProgressStyleModel",
          "state": {
            "_view_name": "StyleView",
            "_model_name": "ProgressStyleModel",
            "description_width": "",
            "_view_module": "@jupyter-widgets/base",
            "_model_module_version": "1.5.0",
            "_view_count": null,
            "_view_module_version": "1.2.0",
            "bar_color": null,
            "_model_module": "@jupyter-widgets/controls"
          }
        },
        "e1ceaf45fde746ae87bc09bedc66ed27": {
          "model_module": "@jupyter-widgets/base",
          "model_name": "LayoutModel",
          "state": {
            "_view_name": "LayoutView",
            "grid_template_rows": null,
            "right": null,
            "justify_content": null,
            "_view_module": "@jupyter-widgets/base",
            "overflow": null,
            "_model_module_version": "1.2.0",
            "_view_count": null,
            "flex_flow": null,
            "width": null,
            "min_width": null,
            "border": null,
            "align_items": null,
            "bottom": null,
            "_model_module": "@jupyter-widgets/base",
            "top": null,
            "grid_column": null,
            "overflow_y": null,
            "overflow_x": null,
            "grid_auto_flow": null,
            "grid_area": null,
            "grid_template_columns": null,
            "flex": null,
            "_model_name": "LayoutModel",
            "justify_items": null,
            "grid_row": null,
            "max_height": null,
            "align_content": null,
            "visibility": null,
            "align_self": null,
            "height": null,
            "min_height": null,
            "padding": null,
            "grid_auto_rows": null,
            "grid_gap": null,
            "max_width": null,
            "order": null,
            "_view_module_version": "1.2.0",
            "grid_template_areas": null,
            "object_position": null,
            "object_fit": null,
            "grid_auto_columns": null,
            "margin": null,
            "display": null,
            "left": null
          }
        }
      }
    }
  },
  "cells": [
    {
      "cell_type": "markdown",
      "metadata": {
        "id": "loved-paragraph"
      },
      "source": [
        "# Helping chemists design selective JAK inhibitors"
      ],
      "id": "loved-paragraph"
    },
    {
      "cell_type": "code",
      "metadata": {
        "colab": {
          "base_uri": "https://localhost:8080/"
        },
        "id": "oofXuVzQ-RAm",
        "outputId": "13e1b0b7-7e76-47dc-c9a1-a4e0bee89e53"
      },
      "source": [
        "# Run this first. Note: Kernel will be restarted automatically. Ignore \"session crashed\" message.\n",
        "!pip install -q condacolab\n",
        "import condacolab\n",
        "condacolab.install()\n"
      ],
      "id": "oofXuVzQ-RAm",
      "execution_count": 1,
      "outputs": [
        {
          "output_type": "stream",
          "text": [
            "⏬ Downloading https://github.com/jaimergp/miniforge/releases/latest/download/Mambaforge-colab-Linux-x86_64.sh...\n",
            "📦 Installing...\n",
            "📌 Adjusting configuration...\n",
            "🩹 Patching environment...\n",
            "⏲ Done in 0:00:37\n",
            "🔁 Restarting kernel...\n"
          ],
          "name": "stdout"
        }
      ]
    },
    {
      "cell_type": "code",
      "metadata": {
        "colab": {
          "base_uri": "https://localhost:8080/"
        },
        "id": "AybTMKew-XxO",
        "outputId": "14e2c73e-44b7-49cd-8b5c-e7327bf41bb4"
      },
      "source": [
        "import condacolab\n",
        "condacolab.check()"
      ],
      "id": "AybTMKew-XxO",
      "execution_count": 75,
      "outputs": [
        {
          "output_type": "stream",
          "text": [
            "✨🍰✨ Everything looks OK!\n"
          ],
          "name": "stdout"
        }
      ]
    },
    {
      "cell_type": "code",
      "metadata": {
        "id": "yNUuhKhz-fyk"
      },
      "source": [
        "%%capture\n",
        "!conda install rdkit"
      ],
      "id": "yNUuhKhz-fyk",
      "execution_count": 76,
      "outputs": []
    },
    {
      "cell_type": "code",
      "metadata": {
        "colab": {
          "base_uri": "https://localhost:8080/"
        },
        "id": "--0tAkXgbcpY",
        "outputId": "e66c763b-883f-448b-ad8c-4320059c40db"
      },
      "source": [
        "!pip install wandb -qqq\n",
        "import wandb\n",
        "wandb.login()\n",
        "import os\n",
        "os.environ['WANDB_CONSOLE'] = 'off'"
      ],
      "id": "--0tAkXgbcpY",
      "execution_count": 77,
      "outputs": [
        {
          "output_type": "stream",
          "text": [
            "\u001b[34m\u001b[1mwandb\u001b[0m: \u001b[33mWARNING\u001b[0m Calling wandb.login() after wandb.init() has no effect.\n"
          ],
          "name": "stderr"
        }
      ]
    },
    {
      "cell_type": "markdown",
      "metadata": {
        "id": "corporate-tokyo"
      },
      "source": [
        "# The dataset"
      ],
      "id": "corporate-tokyo"
    },
    {
      "cell_type": "markdown",
      "metadata": {
        "id": "needed-reset"
      },
      "source": [
        "Here's the kinase dataset we'd like you to work with:"
      ],
      "id": "needed-reset"
    },
    {
      "cell_type": "code",
      "metadata": {
        "colab": {
          "base_uri": "https://localhost:8080/",
          "height": 143
        },
        "id": "immediate-nursing",
        "outputId": "7b6170d1-2baf-43b6-f745-98dff02f3774"
      },
      "source": [
        "import pandas as pd\n",
        "import numpy as np\n",
        "url='https://raw.githubusercontent.com/sronen71/ml-challenge/main/kinase_JAK.csv'\n",
        "#df = pd.read_csv('./kinase_JAK.csv')\n",
        "df=pd.read_csv(url)\n",
        "df.head()\n",
        "df.groupby(['measurement_type']).count()"
      ],
      "id": "immediate-nursing",
      "execution_count": 78,
      "outputs": [
        {
          "output_type": "execute_result",
          "data": {
            "text/html": [
              "<div>\n",
              "<style scoped>\n",
              "    .dataframe tbody tr th:only-of-type {\n",
              "        vertical-align: middle;\n",
              "    }\n",
              "\n",
              "    .dataframe tbody tr th {\n",
              "        vertical-align: top;\n",
              "    }\n",
              "\n",
              "    .dataframe thead th {\n",
              "        text-align: right;\n",
              "    }\n",
              "</style>\n",
              "<table border=\"1\" class=\"dataframe\">\n",
              "  <thead>\n",
              "    <tr style=\"text-align: right;\">\n",
              "      <th></th>\n",
              "      <th>SMILES</th>\n",
              "      <th>measurement_value</th>\n",
              "      <th>Kinase_name</th>\n",
              "    </tr>\n",
              "    <tr>\n",
              "      <th>measurement_type</th>\n",
              "      <th></th>\n",
              "      <th></th>\n",
              "      <th></th>\n",
              "    </tr>\n",
              "  </thead>\n",
              "  <tbody>\n",
              "    <tr>\n",
              "      <th>pIC50</th>\n",
              "      <td>8736</td>\n",
              "      <td>8736</td>\n",
              "      <td>8736</td>\n",
              "    </tr>\n",
              "    <tr>\n",
              "      <th>pKi</th>\n",
              "      <td>1989</td>\n",
              "      <td>1989</td>\n",
              "      <td>1989</td>\n",
              "    </tr>\n",
              "  </tbody>\n",
              "</table>\n",
              "</div>"
            ],
            "text/plain": [
              "                  SMILES  measurement_value  Kinase_name\n",
              "measurement_type                                        \n",
              "pIC50               8736               8736         8736\n",
              "pKi                 1989               1989         1989"
            ]
          },
          "metadata": {
            "tags": []
          },
          "execution_count": 78
        }
      ]
    },
    {
      "cell_type": "markdown",
      "metadata": {
        "id": "handmade-pitch"
      },
      "source": [
        "There are 10725 measurements in total.\n",
        "\n",
        "SMILES is a text encoding of a molecular structure. You can read about it [here](https://www.daylight.com/dayhtml/doc/theory/theory.smiles.html), but you don't have to. \n",
        "\n",
        "measurement_type specifies how the measurement was being done. There are two types of measurements: pIC50 and pKi. For both measurements, a higher number means that the molecule binds stronger to the protein. \n",
        "\n",
        "\n",
        "measurement_value is the value of the measurement. \n",
        "\n",
        "Kinase_name is the name of the kinase that the molecule has been measured against. There are 4 different kinases in this dataset: JAK1, JAK2, JAK3, and TYR2. \n",
        "\n",
        "Our goal is to predict the pKi of a molecule against JAK1, JAK2, JAK3, and TYK2. "
      ],
      "id": "handmade-pitch"
    },
    {
      "cell_type": "markdown",
      "metadata": {
        "id": "coastal-glucose"
      },
      "source": [
        "# Basic RDKit¶\n"
      ],
      "id": "coastal-glucose"
    },
    {
      "cell_type": "markdown",
      "metadata": {
        "id": "worth-hudson"
      },
      "source": [
        "rdkit is the most popular cheminformatics package for python. Unfortunately it has awful documentation: http://rdkit.org/docs/index.html"
      ],
      "id": "worth-hudson"
    },
    {
      "cell_type": "code",
      "metadata": {
        "id": "addressed-schedule"
      },
      "source": [
        "from rdkit import Chem\n",
        "from rdkit.Chem.Draw import IPythonConsole\n",
        "IPythonConsole.molSize = (400, 300)\n",
        "# IPythonConsole.ipython_useSVG=True"
      ],
      "id": "addressed-schedule",
      "execution_count": 117,
      "outputs": []
    },
    {
      "cell_type": "markdown",
      "metadata": {
        "id": "honey-spokesman"
      },
      "source": [
        "You can use it to visualize SMILES strings like this, if you want to visually inspect the data:\n"
      ],
      "id": "honey-spokesman"
    },
    {
      "cell_type": "code",
      "metadata": {
        "colab": {
          "base_uri": "https://localhost:8080/",
          "height": 317
        },
        "id": "meaningful-filter",
        "outputId": "275fe0db-056a-4a8e-f7df-9e057f84b487"
      },
      "source": [
        "# Chem.MolFromSmiles returns a Chem.Mol object, which rdkit automatically visualizes in a jupyter notebook\n",
        "Chem.MolFromSmiles(df['SMILES'][0])"
      ],
      "id": "meaningful-filter",
      "execution_count": 118,
      "outputs": [
        {
          "output_type": "execute_result",
          "data": {
            "image/png": "[encoded data removed]",
            "text/plain": [
              "<rdkit.Chem.rdchem.Mol at 0x7fee68f488f0>"
            ]
          },
          "metadata": {
            "tags": []
          },
          "execution_count": 118
        }
      ]
    },
    {
      "cell_type": "markdown",
      "metadata": {
        "id": "permanent-client"
      },
      "source": [
        "# Tokenization"
      ],
      "id": "permanent-client"
    },
    {
      "cell_type": "markdown",
      "metadata": {
        "id": "characteristic-increase"
      },
      "source": [
        "For text-based models, here is a tokenizer that can be used"
      ],
      "id": "characteristic-increase"
    },
    {
      "cell_type": "code",
      "metadata": {
        "id": "congressional-morning"
      },
      "source": [
        "def smiles_tokenizer(smi):\n",
        "    \"\"\" \n",
        "    Tokenize a SMILES string representation of a molecule\n",
        "    Returns a list of tokens in SMILES vocabulary\n",
        "    \"\"\"\n",
        "    import re\n",
        "    pattern =  \"(\\[[^\\]]+]|Br?|Cl?|N|O|S|P|F|I|b|c|n|o|s|p|\\(|\\)|\\.|=|#|-|\\+|\\\\\\\\|\\/|:|~|@|\\?|>|\\*|\\$|\\%[0-9]{2}|[0-9])\"\n",
        "    regex = re.compile(pattern)\n",
        "    tokens = [token for token in regex.findall(smi)]\n",
        "    assert smi == ''.join(tokens)\n",
        "    return tokens\n",
        "def augment_smiles(smi):\n",
        "  return Chem.MolToSmiles(Chem.MolFromSmiles(smi), doRandom=True)\n"
      ],
      "id": "congressional-morning",
      "execution_count": 119,
      "outputs": []
    },
    {
      "cell_type": "code",
      "metadata": {
        "id": "b8c71614-497f-402f-83ba-340f1b39a615"
      },
      "source": [
        "df_pIC50 = df[df['measurement_type']=='pIC50']\n",
        "df_pKi   = df[df['measurement_type']=='pKi']\n",
        "\n"
      ],
      "id": "b8c71614-497f-402f-83ba-340f1b39a615",
      "execution_count": 133,
      "outputs": []
    },
    {
      "cell_type": "code",
      "metadata": {
        "id": "cbfd4abd-ccff-4246-a5ce-4ef457054f52"
      },
      "source": [
        "def pivot(df):\n",
        "    dfp=df.pivot(index='SMILES',columns=['Kinase_name','measurement_type'],values='measurement_value')\n",
        "    return dfp.sort_index(axis=1,level=[1,0])\n"
      ],
      "id": "cbfd4abd-ccff-4246-a5ce-4ef457054f52",
      "execution_count": 121,
      "outputs": []
    },
    {
      "cell_type": "code",
      "metadata": {
        "colab": {
          "base_uri": "https://localhost:8080/"
        },
        "id": "1e08c038-afd7-466f-b9a5-b96d5439cc0c",
        "outputId": "a6b2ad86-b0ef-4e05-e61b-30972cc04e18"
      },
      "source": [
        "#N=df_pKi.shape[0]\n",
        "#ntest=int(0.2*N)\n",
        "#df_test = df_pKi.iloc[:ntest]\n",
        "#df_train = pd.concat([df_pKi.iloc[ntest:],df_pIC50]).sample(frac=1)\n",
        "#dfp_train = pivot(df_train)\n",
        "#dfp_test = pivot(df_test)\n",
        "#print(dfp_train.head())\n",
        "#print(dfp_test.head())\n",
        "\n",
        "dfp=pivot(df).sample(frac=1)\n",
        "print(dfp.head())\n",
        "\n",
        "#u=dfp.index.to_series().str.strip().str[4].map(ord)\n",
        "#dfp.iloc[:,:]=u.values[:,None]\n",
        "\n",
        "pki=dfp.iloc[:,-4:].notna().any(axis=1)\n",
        "dfp_pki = dfp[dfp.iloc[:,-4:].notna().any(axis=1)]\n",
        "dfp_no_pki = dfp[dfp.iloc[:,-4:].isna().all(axis=1)]\n",
        "N=pki[pki].shape[0]\n",
        "ntest=int(0.25*N)\n",
        "dfp_test = dfp_pki.iloc[:ntest]\n",
        "dfp_train = pd.concat([dfp_pki.iloc[ntest:],dfp_no_pki]).sample(frac=1)\n",
        "print(dfp.shape)\n",
        "print(dfp_test.shape)\n",
        "print(dfp_train.shape)\n",
        "print(dfp_test.count())\n",
        "print(dfp_train.count())\n",
        "print(dfp_train.std(axis=0,skipna=True))\n",
        "print(dfp_test.std(axis=0,skipna=True))\n"
      ],
      "id": "1e08c038-afd7-466f-b9a5-b96d5439cc0c",
      "execution_count": 153,
      "outputs": [
        {
          "output_type": "stream",
          "text": [
            "Kinase_name                                          JAK1  JAK2  ... JAK3 TYK2\n",
            "measurement_type                                    pIC50 pIC50  ...  pKi  pKi\n",
            "SMILES                                                           ...          \n",
            "CC(C)(C)OC(=O)N1CCC(CC#N)(n2cc(C(N)=O)c(Nc3ccc(...  10.05  9.22  ...  NaN  NaN\n",
            "CCCNC(=O)c1ccc(Nc2nc(CCC(F)(F)F)c3cc[nH]c3n2)cc1      NaN   NaN  ...  NaN  NaN\n",
            "N#CC1CC(N2CC3(CCC3)C2)CCC1n1cc(C(N)=O)c(Nc2cccc...   9.00  7.21  ...  NaN  NaN\n",
            "CN(Cc1ccc(C(C)(C)C)cc1)C1CCN(C(=O)Cn2cc(NC(=O)c...    NaN   NaN  ...  NaN  NaN\n",
            "NC(=O)CN1CCC(c2ccc(Nc3ncc4ccc(-c5cnccn5)n4n3)cc...    NaN  8.05  ...  NaN  NaN\n",
            "\n",
            "[5 rows x 8 columns]\n",
            "(4528, 8)\n",
            "(246, 8)\n",
            "(4282, 8)\n",
            "Kinase_name  measurement_type\n",
            "JAK1         pIC50                 5\n",
            "JAK2         pIC50                35\n",
            "JAK3         pIC50                35\n",
            "TYK2         pIC50                 1\n",
            "JAK1         pKi                 174\n",
            "JAK2         pKi                 201\n",
            "JAK3         pKi                  82\n",
            "TYK2         pKi                  41\n",
            "dtype: int64\n",
            "Kinase_name  measurement_type\n",
            "JAK1         pIC50               3195\n",
            "JAK2         pIC50               3029\n",
            "JAK3         pIC50               1845\n",
            "TYK2         pIC50                591\n",
            "JAK1         pKi                  511\n",
            "JAK2         pKi                  603\n",
            "JAK3         pKi                  255\n",
            "TYK2         pKi                  122\n",
            "dtype: int64\n",
            "Kinase_name  measurement_type\n",
            "JAK1         pIC50               1.014464\n",
            "JAK2         pIC50               0.920871\n",
            "JAK3         pIC50               1.196816\n",
            "TYK2         pIC50               0.675146\n",
            "JAK1         pKi                 1.023823\n",
            "JAK2         pKi                 1.168986\n",
            "JAK3         pKi                 1.896022\n",
            "TYK2         pKi                 0.914811\n",
            "dtype: float64\n",
            "Kinase_name  measurement_type\n",
            "JAK1         pIC50               0.736865\n",
            "JAK2         pIC50               0.749009\n",
            "JAK3         pIC50               1.086958\n",
            "TYK2         pIC50                    NaN\n",
            "JAK1         pKi                 1.026176\n",
            "JAK2         pKi                 1.096430\n",
            "JAK3         pKi                 1.986545\n",
            "TYK2         pKi                 0.914267\n",
            "dtype: float64\n"
          ],
          "name": "stdout"
        }
      ]
    },
    {
      "cell_type": "code",
      "metadata": {
        "colab": {
          "base_uri": "https://localhost:8080/",
          "height": 607
        },
        "id": "Ez1qUtbpEnr8",
        "outputId": "cea20087-f516-424b-af19-2879686e52f7"
      },
      "source": [
        "hist=dfp.hist(figsize=(10,10))"
      ],
      "id": "Ez1qUtbpEnr8",
      "execution_count": 154,
      "outputs": [
        {
          "output_type": "display_data",
          "data": {
            "image/png": "[encoded data removed]",
            "text/plain": [
              "<Figure size 720x720 with 9 Axes>"
            ]
          },
          "metadata": {
            "tags": [],
            "needs_background": "light"
          }
        }
      ]
    },
    {
      "cell_type": "code",
      "metadata": {
        "id": "6IjxYJ8KI-GZ"
      },
      "source": [
        "import torchtext\n",
        "import torch\n",
        "\n",
        "vocab = torchtext.vocab.build_vocab_from_iterator(map(smiles_tokenizer,df['SMILES']),specials=['<pad>'])\n",
        "PAD_IDX=0"
      ],
      "id": "6IjxYJ8KI-GZ",
      "execution_count": 155,
      "outputs": []
    },
    {
      "cell_type": "code",
      "metadata": {
        "id": "aMzrXZGrZa6O"
      },
      "source": [
        "import math\n",
        "import torch.nn as nn\n",
        "import torch.nn.functional as F\n",
        "from torch.nn import TransformerEncoder, TransformerEncoderLayer\n",
        "\n",
        "\n",
        "\n",
        "class TransformerModel(nn.Module):\n",
        "\n",
        "    def __init__(self, ntoken, ninp, nhead, nhid, nlayers, dropout=0.5):\n",
        "        super(TransformerModel, self).__init__()\n",
        "        self.model_type = 'Transformer'\n",
        "        self.pos_encoder = PositionalEncoding(ninp, dropout)\n",
        "        encoder_layers = TransformerEncoderLayer(ninp, nhead, nhid, dropout,batch_first=True)\n",
        "        self.transformer_encoder = TransformerEncoder(encoder_layers, nlayers)\n",
        "        self.encoder = nn.Embedding(ntoken, ninp)\n",
        "        self.ninp = ninp\n",
        "        self.decoder = nn.Linear(ninp, 8)\n",
        "\n",
        "        self.init_weights()\n",
        "\n",
        "    def init_weights(self):\n",
        "        initrange = 0.1\n",
        "        self.encoder.weight.data.uniform_(-initrange, initrange)\n",
        "        self.decoder.bias.data.zero_()\n",
        "        self.decoder.weight.data.uniform_(-initrange, initrange)\n",
        "\n",
        "    def forward(self, src, src_mask=None):\n",
        "        padding_mask = (src == PAD_IDX)\n",
        "        #padding_mask=None\n",
        "        src = self.encoder(src) * math.sqrt(self.ninp)\n",
        "        src = self.pos_encoder(src)\n",
        "        output = self.transformer_encoder(src, src_key_padding_mask = padding_mask,mask=src_mask)\n",
        "        output = self.decoder(output[:,0,:])\n",
        "        return output"
      ],
      "id": "aMzrXZGrZa6O",
      "execution_count": 218,
      "outputs": []
    },
    {
      "cell_type": "code",
      "metadata": {
        "id": "k0wxHCjOZj9r"
      },
      "source": [
        "class PositionalEncoding(torch.nn.Module):\n",
        "\n",
        "    def __init__(self, d_model, dropout=0.1, max_len=5000):\n",
        "        super(PositionalEncoding, self).__init__()\n",
        "        self.dropout = nn.Dropout(p=dropout)\n",
        "\n",
        "        pe = torch.zeros(max_len, d_model)\n",
        "        position = torch.arange(0, max_len, dtype=torch.float).unsqueeze(1)\n",
        "        div_term = torch.exp(torch.arange(0, d_model, 2).float() * (-math.log(10000.0) / d_model))\n",
        "        pe[:, 0::2] = torch.sin(position * div_term)\n",
        "        pe[:, 1::2] = torch.cos(position * div_term)\n",
        "        pe = pe.unsqueeze(0)\n",
        "        self.register_buffer('pe', pe)\n",
        "\n",
        "    def forward(self, x):\n",
        "        x = x + self.pe[:,:x.size(1)]\n",
        "        return self.dropout(x)"
      ],
      "id": "k0wxHCjOZj9r",
      "execution_count": 226,
      "outputs": []
    },
    {
      "cell_type": "code",
      "metadata": {
        "id": "e0pT1JAlv94V"
      },
      "source": [
        "max_string_len=105\n",
        "def data_process(df,augment=False):\n",
        "  X=[]\n",
        "  Y=[]\n",
        "  naugment=1\n",
        "  if augment:\n",
        "    naugment = 2\n",
        "  for row in df.itertuples():\n",
        "    for k in range(naugment):\n",
        "      smi=row[0]\n",
        "      if k>0:\n",
        "        smi=augment_smiles(smi)\n",
        "      v=vocab(smiles_tokenizer(smi))\n",
        "      x=torch.zeros(max_string_len,dtype=torch.long)\n",
        "      x[:len(v)] = torch.tensor(v,dtype=torch.long)\n",
        "      y=torch.tensor(row[1:]).float()\n",
        "      X.append(x)\n",
        "      Y.append(y)\n",
        "  X = torch.stack(X)\n",
        "  Y = torch.stack(Y)\n",
        "  print(Y)\n",
        "  dataset = torch.utils.data.TensorDataset(X, Y)\n",
        "  return dataset"
      ],
      "id": "e0pT1JAlv94V",
      "execution_count": 220,
      "outputs": []
    },
    {
      "cell_type": "code",
      "metadata": {
        "colab": {
          "base_uri": "https://localhost:8080/"
        },
        "id": "wG1eHb9jZwJJ",
        "outputId": "44c9d920-7706-43a8-9c94-876f8f7e8ffc"
      },
      "source": [
        "import torch\n",
        "bptt=256\n",
        "train_dataset = data_process(dfp_train,augment=True)\n",
        "train_dataloader = torch.utils.data.DataLoader(train_dataset, batch_size=bptt, shuffle=True,num_workers=2)\n",
        "test_dataset = data_process(dfp_test)\n",
        "test_dataloader = torch.utils.data.DataLoader(test_dataset, batch_size=1, shuffle=False,num_workers=2)\n",
        "\n",
        "device = torch.device(\"cuda\" if torch.cuda.is_available() else \"cpu\")\n",
        "\n",
        "\n",
        "\n",
        "\n"
      ],
      "id": "wG1eHb9jZwJJ",
      "execution_count": 221,
      "outputs": [
        {
          "output_type": "stream",
          "text": [
            "tensor([[   nan,    nan,    nan,  ..., 9.0700,    nan,    nan],\n",
            "        [   nan,    nan,    nan,  ..., 9.0700,    nan,    nan],\n",
            "        [7.7200, 7.4000, 6.6600,  ...,    nan,    nan,    nan],\n",
            "        ...,\n",
            "        [8.8400, 8.0900, 8.8400,  ...,    nan,    nan,    nan],\n",
            "        [7.3500,    nan, 7.3500,  ...,    nan,    nan,    nan],\n",
            "        [7.3500,    nan, 7.3500,  ...,    nan,    nan,    nan]])\n",
            "tensor([[    nan,     nan,     nan,  ...,  6.3000,     nan,     nan],\n",
            "        [    nan,     nan,     nan,  ...,  9.6400,     nan,     nan],\n",
            "        [    nan, 10.0600, 10.2200,  ...,     nan, 10.5200,     nan],\n",
            "        ...,\n",
            "        [    nan,     nan,     nan,  ...,  8.9400,     nan,     nan],\n",
            "        [    nan,  9.0000,  9.5400,  ...,     nan,  9.8300,     nan],\n",
            "        [ 7.7700,  9.8900, 10.7600,  ...,     nan, 11.0700,     nan]])\n"
          ],
          "name": "stdout"
        }
      ]
    },
    {
      "cell_type": "code",
      "metadata": {
        "id": "MCybK-fcIhTc"
      },
      "source": [
        "ntokens = len(vocab) # the size of vocabulary\n",
        "emsize = 128 # embedding dimension\n",
        "nhid = 256 # the dimension of the feedforward network model in nn.TransformerEncoder\n",
        "nlayers = 3 # the number of nn.TransformerEncoderLayer in nn.TransformerEncoder\n",
        "nhead = 4 # the number of heads in the multiheadattention models\n",
        "dropout = 0.2 # the dropout value\n",
        "learning_rate=0.001\n",
        "\n",
        "model = TransformerModel(ntokens, emsize, nhead, nhid, nlayers, dropout).to(device)"
      ],
      "id": "MCybK-fcIhTc",
      "execution_count": 234,
      "outputs": []
    },
    {
      "cell_type": "code",
      "metadata": {
        "id": "M5mGtwp4ftR-"
      },
      "source": [
        "def proxy_loss(input, target):\n",
        "    loss=target_loss(input,target)\n",
        "    # Missing data are nan's\n",
        "    input2=input[:,:-4]\n",
        "    target2=target[:,:-4]\n",
        "    # Missing data are nan's\n",
        "    mask2 = torch.isnan(target2)\n",
        "    out = (input2[~mask2]-target2[~mask2])**2\n",
        "    loss += 0.5*out.sum()\n",
        "    return loss\n",
        "\n",
        "def target_loss(input, target):\n",
        "    input1=input[:,-4:]\n",
        "    target1=target[:,-4:]\n",
        "    # Missing data are nan's\n",
        "    mask1 = torch.isnan(target1)\n",
        "    out = (input1[~mask1]-target1[~mask1])**2\n",
        "    loss = out.sum()\n",
        "    return loss"
      ],
      "id": "M5mGtwp4ftR-",
      "execution_count": 235,
      "outputs": []
    },
    {
      "cell_type": "code",
      "metadata": {
        "id": "VPCjM-eCL7uB"
      },
      "source": [
        "import time\n",
        "\n",
        "proxy_criterion = proxy_loss\n",
        "target_criterion = target_loss\n",
        "\n",
        "optimizer = torch.optim.AdamW(model.parameters(),lr=learning_rate)\n",
        "\n",
        "\n",
        "def train(dataloader):\n",
        "    model.train() # Turn on the train mode\n",
        "    total_loss = 0.\n",
        "    total_count = 0\n",
        "    start_time = time.time()\n",
        "\n",
        "    ibatch=0\n",
        "    nbatches = len(dataloader)\n",
        "    for local_batch, local_labels in dataloader:\n",
        "        ibatch+=1\n",
        "        # Transfer to GPU (if available)\n",
        "        data, targets = local_batch.to(device), local_labels.to(device)\n",
        "        optimizer.zero_grad()\n",
        "\n",
        "        output = model(data, src_mask=None)\n",
        "        loss = proxy_criterion(output, targets)\n",
        "        loss.backward()\n",
        "        torch.nn.utils.clip_grad_norm_(model.parameters(), 0.5)\n",
        "        optimizer.step()\n",
        "\n",
        "        total_loss += loss.item()\n",
        "        total_count += torch.sum(~torch.isnan(targets)).item()\n",
        "        cur_loss = total_loss / total_count\n",
        "        log_interval = nbatches//2\n",
        "        \n",
        "        if ibatch % log_interval == 0 and ibatch > 0 or ibatch == nbatches-1:\n",
        "            elapsed = time.time() - start_time\n",
        "            print('| epoch {:3d} | {:5d}/{:5d} batches | lr {:02.4f} | ms/batch {:5.2f} | loss {:5.2f}'.format(\n",
        "                    epoch, ibatch, nbatches, scheduler.get_last_lr()[0],\n",
        "                    elapsed * 1000 / log_interval, cur_loss))\n",
        "            start_time = time.time()\n",
        "    return cur_loss\n",
        "\n",
        "def evaluate(dataloader):\n",
        "    model.eval() # Turn on the evaluation mode\n",
        "    total_loss = 0.\n",
        "    total_count = 0\n",
        "    with torch.no_grad():\n",
        "        for local_batch, local_labels in dataloader:\n",
        "            data, targets = local_batch.to(device), local_labels.to(device)\n",
        "            output = model(data, src_mask=None)\n",
        "            total_loss += target_criterion(output, targets).item()\n",
        "            total_count += torch.sum(~torch.isnan(targets)).item()\n",
        "    return total_loss / total_count\n",
        "    "
      ],
      "id": "VPCjM-eCL7uB",
      "execution_count": 236,
      "outputs": []
    },
    {
      "cell_type": "code",
      "metadata": {
        "colab": {
          "base_uri": "https://localhost:8080/",
          "height": 1000,
          "referenced_widgets": [
            "5c3cdd424ce54d2d8582b0bde8edd231",
            "fb21b32e6b78460a9b4793f0196210a3",
            "eed60a36728b4f329efab74be1af3591",
            "e00065d7f2084f4d96f0b99dffd1259a",
            "15954f9a87134fb2a7cddf770588e08f",
            "9854ef0caead40d1b7aaa561ae70b2ed",
            "877f8d1ab4584337b1d9d8d574ae7798",
            "e1ceaf45fde746ae87bc09bedc66ed27"
          ]
        },
        "id": "HeMYVI4QOrIv",
        "outputId": "1b7efa66-c68d-4740-f33a-dddc9a7032d5"
      },
      "source": [
        "best_val_loss = float(\"inf\")\n",
        "epochs = 80 # The number of epochs\n",
        "best_model = None\n",
        "scheduler = torch.optim.lr_scheduler.ExponentialLR(optimizer, gamma=0.98)\n",
        "wandb.init(\n",
        "      project=\"kinase_challenege\", \n",
        "      # Track hyperparameters and run metadata\n",
        "      config={\n",
        "      \"learning_rate\": learning_rate,\n",
        "      \"dropout\": dropout,\n",
        "      \"emsize\": emsize,\n",
        "      \"nhid\": nhid,\n",
        "      \"nlayers\": nlayers,\n",
        "      \"nhead\": nhead,\n",
        "      \"architecture\": \"Transformer\",\n",
        "      \"dataset\": \"JAK Kinase\"})\n",
        "\n",
        "for epoch in range(1, epochs + 1):\n",
        "    epoch_start_time = time.time()\n",
        "    loss=train(train_dataloader)\n",
        "    val_loss = evaluate(test_dataloader)\n",
        "    wandb.log({\"loss\":loss, \"eval\": val_loss})\n",
        "    print('-' * 89)\n",
        "    print('| end of epoch {:3d} | time: {:5.2f}s | valid loss {:5.2f}'.format(epoch,(time.time() - epoch_start_time),val_loss))\n",
        "    print('-' * 89)\n",
        "\n",
        "    if val_loss < best_val_loss:\n",
        "        best_val_loss = val_loss\n",
        "        best_model = model\n",
        "\n",
        "    scheduler.step()\n",
        "wandb.finish()\n"
      ],
      "id": "HeMYVI4QOrIv",
      "execution_count": 237,
      "outputs": [
        {
          "output_type": "display_data",
          "data": {
            "text/html": [
              "\n",
              "                Tracking run with wandb version 0.11.0<br/>\n",
              "                Syncing run <strong style=\"color:#cdcd00\">eager-snowflake-55</strong> to <a href=\"https://wandb.ai\" target=\"_blank\">Weights & Biases</a> <a href=\"https://docs.wandb.com/integrations/jupyter.html\" target=\"_blank\">(Documentation)</a>.<br/>\n",
              "                Project page: <a href=\"https://wandb.ai/sronen71/kinase_challenege\" target=\"_blank\">https://wandb.ai/sronen71/kinase_challenege</a><br/>\n",
              "                Run page: <a href=\"https://wandb.ai/sronen71/kinase_challenege/runs/k1mm6lm7\" target=\"_blank\">https://wandb.ai/sronen71/kinase_challenege/runs/k1mm6lm7</a><br/>\n",
              "                Run data is saved locally in <code>/content/wandb/run-20210726_085149-k1mm6lm7</code><br/><br/>\n",
              "            "
            ],
            "text/plain": [
              "<IPython.core.display.HTML object>"
            ]
          },
          "metadata": {
            "tags": []
          }
        },
        {
          "output_type": "stream",
          "text": [
            "| epoch   1 |    17/   34 batches | lr 0.0002 | ms/batch 89.62 | loss 24.88\n",
            "| epoch   1 |    33/   34 batches | lr 0.0002 | ms/batch 68.74 | loss 20.08\n",
            "| epoch   1 |    34/   34 batches | lr 0.0002 | ms/batch  2.24 | loss 19.98\n",
            "-----------------------------------------------------------------------------------------\n",
            "| end of epoch   1 | time:  4.01s | valid loss 35.75\n",
            "-----------------------------------------------------------------------------------------\n",
            "| epoch   2 |    17/   34 batches | lr 0.0002 | ms/batch 83.57 | loss 12.09\n",
            "| epoch   2 |    33/   34 batches | lr 0.0002 | ms/batch 68.76 | loss 11.09\n",
            "| epoch   2 |    34/   34 batches | lr 0.0002 | ms/batch  2.32 | loss 11.05\n",
            "-----------------------------------------------------------------------------------------\n",
            "| end of epoch   2 | time:  3.94s | valid loss 26.04\n",
            "-----------------------------------------------------------------------------------------\n",
            "| epoch   3 |    17/   34 batches | lr 0.0002 | ms/batch 84.18 | loss  8.04\n",
            "| epoch   3 |    33/   34 batches | lr 0.0002 | ms/batch 69.28 | loss  7.40\n",
            "| epoch   3 |    34/   34 batches | lr 0.0002 | ms/batch  2.30 | loss  7.38\n",
            "-----------------------------------------------------------------------------------------\n",
            "| end of epoch   3 | time:  3.97s | valid loss 17.15\n",
            "-----------------------------------------------------------------------------------------\n",
            "| epoch   4 |    17/   34 batches | lr 0.0002 | ms/batch 84.63 | loss  5.09\n",
            "| epoch   4 |    33/   34 batches | lr 0.0002 | ms/batch 69.12 | loss  4.47\n",
            "| epoch   4 |    34/   34 batches | lr 0.0002 | ms/batch  2.30 | loss  4.47\n",
            "-----------------------------------------------------------------------------------------\n",
            "| end of epoch   4 | time:  3.98s | valid loss 10.09\n",
            "-----------------------------------------------------------------------------------------\n",
            "| epoch   5 |    17/   34 batches | lr 0.0002 | ms/batch 84.64 | loss  2.58\n",
            "| epoch   5 |    33/   34 batches | lr 0.0002 | ms/batch 69.87 | loss  2.27\n",
            "| epoch   5 |    34/   34 batches | lr 0.0002 | ms/batch  2.37 | loss  2.27\n",
            "-----------------------------------------------------------------------------------------\n",
            "| end of epoch   5 | time:  3.97s | valid loss  4.15\n",
            "-----------------------------------------------------------------------------------------\n",
            "| epoch   6 |    17/   34 batches | lr 0.0002 | ms/batch 84.56 | loss  1.24\n",
            "| epoch   6 |    33/   34 batches | lr 0.0002 | ms/batch 69.43 | loss  1.05\n",
            "| epoch   6 |    34/   34 batches | lr 0.0002 | ms/batch  2.26 | loss  1.05\n",
            "-----------------------------------------------------------------------------------------\n",
            "| end of epoch   6 | time:  3.96s | valid loss  1.58\n",
            "-----------------------------------------------------------------------------------------\n",
            "| epoch   7 |    17/   34 batches | lr 0.0002 | ms/batch 84.06 | loss  0.68\n",
            "| epoch   7 |    33/   34 batches | lr 0.0002 | ms/batch 69.58 | loss  0.66\n",
            "| epoch   7 |    34/   34 batches | lr 0.0002 | ms/batch  2.28 | loss  0.66\n",
            "-----------------------------------------------------------------------------------------\n",
            "| end of epoch   7 | time:  3.95s | valid loss  1.22\n",
            "-----------------------------------------------------------------------------------------\n",
            "| epoch   8 |    17/   34 batches | lr 0.0002 | ms/batch 84.60 | loss  0.61\n",
            "| epoch   8 |    33/   34 batches | lr 0.0002 | ms/batch 69.24 | loss  0.61\n",
            "| epoch   8 |    34/   34 batches | lr 0.0002 | ms/batch  2.31 | loss  0.60\n",
            "-----------------------------------------------------------------------------------------\n",
            "| end of epoch   8 | time:  3.91s | valid loss  1.14\n",
            "-----------------------------------------------------------------------------------------\n",
            "| epoch   9 |    17/   34 batches | lr 0.0002 | ms/batch 83.88 | loss  0.58\n",
            "| epoch   9 |    33/   34 batches | lr 0.0002 | ms/batch 69.46 | loss  0.58\n",
            "| epoch   9 |    34/   34 batches | lr 0.0002 | ms/batch  2.28 | loss  0.57\n",
            "-----------------------------------------------------------------------------------------\n",
            "| end of epoch   9 | time:  3.93s | valid loss  1.06\n",
            "-----------------------------------------------------------------------------------------\n",
            "| epoch  10 |    17/   34 batches | lr 0.0002 | ms/batch 84.81 | loss  0.56\n",
            "| epoch  10 |    33/   34 batches | lr 0.0002 | ms/batch 69.63 | loss  0.55\n",
            "| epoch  10 |    34/   34 batches | lr 0.0002 | ms/batch  2.28 | loss  0.54\n",
            "-----------------------------------------------------------------------------------------\n",
            "| end of epoch  10 | time:  3.96s | valid loss  0.86\n",
            "-----------------------------------------------------------------------------------------\n",
            "| epoch  11 |    17/   34 batches | lr 0.0002 | ms/batch 84.31 | loss  0.53\n",
            "| epoch  11 |    33/   34 batches | lr 0.0002 | ms/batch 69.62 | loss  0.51\n",
            "| epoch  11 |    34/   34 batches | lr 0.0002 | ms/batch  2.41 | loss  0.51\n",
            "-----------------------------------------------------------------------------------------\n",
            "| end of epoch  11 | time:  3.98s | valid loss  0.77\n",
            "-----------------------------------------------------------------------------------------\n",
            "| epoch  12 |    17/   34 batches | lr 0.0002 | ms/batch 84.75 | loss  0.49\n",
            "| epoch  12 |    33/   34 batches | lr 0.0002 | ms/batch 70.11 | loss  0.48\n",
            "| epoch  12 |    34/   34 batches | lr 0.0002 | ms/batch  2.28 | loss  0.48\n",
            "-----------------------------------------------------------------------------------------\n",
            "| end of epoch  12 | time:  3.93s | valid loss  0.61\n",
            "-----------------------------------------------------------------------------------------\n",
            "| epoch  13 |    17/   34 batches | lr 0.0002 | ms/batch 85.11 | loss  0.46\n",
            "| epoch  13 |    33/   34 batches | lr 0.0002 | ms/batch 69.68 | loss  0.46\n",
            "| epoch  13 |    34/   34 batches | lr 0.0002 | ms/batch  2.32 | loss  0.46\n",
            "-----------------------------------------------------------------------------------------\n",
            "| end of epoch  13 | time:  3.92s | valid loss  0.58\n",
            "-----------------------------------------------------------------------------------------\n",
            "| epoch  14 |    17/   34 batches | lr 0.0002 | ms/batch 86.28 | loss  0.45\n",
            "| epoch  14 |    33/   34 batches | lr 0.0002 | ms/batch 70.10 | loss  0.44\n",
            "| epoch  14 |    34/   34 batches | lr 0.0002 | ms/batch  2.32 | loss  0.44\n",
            "-----------------------------------------------------------------------------------------\n",
            "| end of epoch  14 | time:  3.97s | valid loss  0.51\n",
            "-----------------------------------------------------------------------------------------\n",
            "| epoch  15 |    17/   34 batches | lr 0.0002 | ms/batch 84.53 | loss  0.43\n",
            "| epoch  15 |    33/   34 batches | lr 0.0002 | ms/batch 70.21 | loss  0.43\n",
            "| epoch  15 |    34/   34 batches | lr 0.0002 | ms/batch  2.30 | loss  0.43\n",
            "-----------------------------------------------------------------------------------------\n",
            "| end of epoch  15 | time:  3.95s | valid loss  0.52\n",
            "-----------------------------------------------------------------------------------------\n",
            "| epoch  16 |    17/   34 batches | lr 0.0001 | ms/batch 84.90 | loss  0.43\n",
            "| epoch  16 |    33/   34 batches | lr 0.0001 | ms/batch 69.88 | loss  0.42\n",
            "| epoch  16 |    34/   34 batches | lr 0.0001 | ms/batch  2.27 | loss  0.42\n",
            "-----------------------------------------------------------------------------------------\n",
            "| end of epoch  16 | time:  3.95s | valid loss  0.51\n",
            "-----------------------------------------------------------------------------------------\n",
            "| epoch  17 |    17/   34 batches | lr 0.0001 | ms/batch 84.67 | loss  0.42\n",
            "| epoch  17 |    33/   34 batches | lr 0.0001 | ms/batch 69.89 | loss  0.41\n",
            "| epoch  17 |    34/   34 batches | lr 0.0001 | ms/batch  2.37 | loss  0.41\n",
            "-----------------------------------------------------------------------------------------\n",
            "| end of epoch  17 | time:  3.94s | valid loss  0.43\n",
            "-----------------------------------------------------------------------------------------\n",
            "| epoch  18 |    17/   34 batches | lr 0.0001 | ms/batch 85.10 | loss  0.41\n",
            "| epoch  18 |    33/   34 batches | lr 0.0001 | ms/batch 69.76 | loss  0.40\n",
            "| epoch  18 |    34/   34 batches | lr 0.0001 | ms/batch  2.28 | loss  0.40\n",
            "-----------------------------------------------------------------------------------------\n",
            "| end of epoch  18 | time:  3.99s | valid loss  0.47\n",
            "-----------------------------------------------------------------------------------------\n",
            "| epoch  19 |    17/   34 batches | lr 0.0001 | ms/batch 85.72 | loss  0.39\n",
            "| epoch  19 |    33/   34 batches | lr 0.0001 | ms/batch 69.89 | loss  0.39\n",
            "| epoch  19 |    34/   34 batches | lr 0.0001 | ms/batch  2.40 | loss  0.39\n",
            "-----------------------------------------------------------------------------------------\n",
            "| end of epoch  19 | time:  4.00s | valid loss  0.42\n",
            "-----------------------------------------------------------------------------------------\n",
            "| epoch  20 |    17/   34 batches | lr 0.0001 | ms/batch 85.98 | loss  0.38\n",
            "| epoch  20 |    33/   34 batches | lr 0.0001 | ms/batch 70.04 | loss  0.39\n",
            "| epoch  20 |    34/   34 batches | lr 0.0001 | ms/batch  2.31 | loss  0.39\n",
            "-----------------------------------------------------------------------------------------\n",
            "| end of epoch  20 | time:  4.02s | valid loss  0.45\n",
            "-----------------------------------------------------------------------------------------\n",
            "| epoch  21 |    17/   34 batches | lr 0.0001 | ms/batch 85.94 | loss  0.39\n",
            "| epoch  21 |    33/   34 batches | lr 0.0001 | ms/batch 70.23 | loss  0.39\n",
            "| epoch  21 |    34/   34 batches | lr 0.0001 | ms/batch  2.30 | loss  0.39\n",
            "-----------------------------------------------------------------------------------------\n",
            "| end of epoch  21 | time:  4.00s | valid loss  0.43\n",
            "-----------------------------------------------------------------------------------------\n",
            "| epoch  22 |    17/   34 batches | lr 0.0001 | ms/batch 85.68 | loss  0.37\n",
            "| epoch  22 |    33/   34 batches | lr 0.0001 | ms/batch 70.13 | loss  0.38\n",
            "| epoch  22 |    34/   34 batches | lr 0.0001 | ms/batch  2.38 | loss  0.38\n",
            "-----------------------------------------------------------------------------------------\n",
            "| end of epoch  22 | time:  4.00s | valid loss  0.44\n",
            "-----------------------------------------------------------------------------------------\n",
            "| epoch  23 |    17/   34 batches | lr 0.0001 | ms/batch 85.21 | loss  0.36\n",
            "| epoch  23 |    33/   34 batches | lr 0.0001 | ms/batch 69.93 | loss  0.37\n",
            "| epoch  23 |    34/   34 batches | lr 0.0001 | ms/batch  2.34 | loss  0.37\n",
            "-----------------------------------------------------------------------------------------\n",
            "| end of epoch  23 | time:  4.01s | valid loss  0.48\n",
            "-----------------------------------------------------------------------------------------\n",
            "| epoch  24 |    17/   34 batches | lr 0.0001 | ms/batch 85.42 | loss  0.38\n",
            "| epoch  24 |    33/   34 batches | lr 0.0001 | ms/batch 70.45 | loss  0.37\n",
            "| epoch  24 |    34/   34 batches | lr 0.0001 | ms/batch  2.40 | loss  0.37\n",
            "-----------------------------------------------------------------------------------------\n",
            "| end of epoch  24 | time:  3.97s | valid loss  0.48\n",
            "-----------------------------------------------------------------------------------------\n",
            "| epoch  25 |    17/   34 batches | lr 0.0001 | ms/batch 86.52 | loss  0.38\n",
            "| epoch  25 |    33/   34 batches | lr 0.0001 | ms/batch 70.08 | loss  0.37\n",
            "| epoch  25 |    34/   34 batches | lr 0.0001 | ms/batch  2.29 | loss  0.37\n",
            "-----------------------------------------------------------------------------------------\n",
            "| end of epoch  25 | time:  3.97s | valid loss  0.48\n",
            "-----------------------------------------------------------------------------------------\n",
            "| epoch  26 |    17/   34 batches | lr 0.0001 | ms/batch 85.78 | loss  0.37\n",
            "| epoch  26 |    33/   34 batches | lr 0.0001 | ms/batch 70.34 | loss  0.37\n",
            "| epoch  26 |    34/   34 batches | lr 0.0001 | ms/batch  2.36 | loss  0.37\n",
            "-----------------------------------------------------------------------------------------\n",
            "| end of epoch  26 | time:  3.99s | valid loss  0.42\n",
            "-----------------------------------------------------------------------------------------\n",
            "| epoch  27 |    17/   34 batches | lr 0.0001 | ms/batch 86.13 | loss  0.36\n",
            "| epoch  27 |    33/   34 batches | lr 0.0001 | ms/batch 70.22 | loss  0.36\n",
            "| epoch  27 |    34/   34 batches | lr 0.0001 | ms/batch  2.33 | loss  0.36\n",
            "-----------------------------------------------------------------------------------------\n",
            "| end of epoch  27 | time:  3.98s | valid loss  0.43\n",
            "-----------------------------------------------------------------------------------------\n",
            "| epoch  28 |    17/   34 batches | lr 0.0001 | ms/batch 84.91 | loss  0.35\n",
            "| epoch  28 |    33/   34 batches | lr 0.0001 | ms/batch 70.90 | loss  0.35\n",
            "| epoch  28 |    34/   34 batches | lr 0.0001 | ms/batch  2.33 | loss  0.35\n",
            "-----------------------------------------------------------------------------------------\n",
            "| end of epoch  28 | time:  3.97s | valid loss  0.50\n",
            "-----------------------------------------------------------------------------------------\n",
            "| epoch  29 |    17/   34 batches | lr 0.0001 | ms/batch 85.47 | loss  0.36\n",
            "| epoch  29 |    33/   34 batches | lr 0.0001 | ms/batch 70.53 | loss  0.36\n",
            "| epoch  29 |    34/   34 batches | lr 0.0001 | ms/batch  2.34 | loss  0.35\n",
            "-----------------------------------------------------------------------------------------\n",
            "| end of epoch  29 | time:  3.96s | valid loss  0.46\n",
            "-----------------------------------------------------------------------------------------\n",
            "| epoch  30 |    17/   34 batches | lr 0.0001 | ms/batch 85.44 | loss  0.36\n",
            "| epoch  30 |    33/   34 batches | lr 0.0001 | ms/batch 70.78 | loss  0.35\n",
            "| epoch  30 |    34/   34 batches | lr 0.0001 | ms/batch  2.38 | loss  0.35\n",
            "-----------------------------------------------------------------------------------------\n",
            "| end of epoch  30 | time:  3.94s | valid loss  0.44\n",
            "-----------------------------------------------------------------------------------------\n",
            "| epoch  31 |    17/   34 batches | lr 0.0001 | ms/batch 85.53 | loss  0.35\n",
            "| epoch  31 |    33/   34 batches | lr 0.0001 | ms/batch 70.60 | loss  0.35\n",
            "| epoch  31 |    34/   34 batches | lr 0.0001 | ms/batch  2.29 | loss  0.35\n",
            "-----------------------------------------------------------------------------------------\n",
            "| end of epoch  31 | time:  3.96s | valid loss  0.47\n",
            "-----------------------------------------------------------------------------------------\n",
            "| epoch  32 |    17/   34 batches | lr 0.0001 | ms/batch 84.99 | loss  0.35\n",
            "| epoch  32 |    33/   34 batches | lr 0.0001 | ms/batch 70.74 | loss  0.35\n",
            "| epoch  32 |    34/   34 batches | lr 0.0001 | ms/batch  2.32 | loss  0.35\n",
            "-----------------------------------------------------------------------------------------\n",
            "| end of epoch  32 | time:  3.95s | valid loss  0.50\n",
            "-----------------------------------------------------------------------------------------\n",
            "| epoch  33 |    17/   34 batches | lr 0.0001 | ms/batch 85.54 | loss  0.35\n",
            "| epoch  33 |    33/   34 batches | lr 0.0001 | ms/batch 71.40 | loss  0.35\n",
            "| epoch  33 |    34/   34 batches | lr 0.0001 | ms/batch  2.30 | loss  0.35\n",
            "-----------------------------------------------------------------------------------------\n",
            "| end of epoch  33 | time:  4.01s | valid loss  0.41\n",
            "-----------------------------------------------------------------------------------------\n",
            "| epoch  34 |    17/   34 batches | lr 0.0001 | ms/batch 86.99 | loss  0.34\n",
            "| epoch  34 |    33/   34 batches | lr 0.0001 | ms/batch 70.48 | loss  0.34\n",
            "| epoch  34 |    34/   34 batches | lr 0.0001 | ms/batch  2.32 | loss  0.34\n",
            "-----------------------------------------------------------------------------------------\n",
            "| end of epoch  34 | time:  3.99s | valid loss  0.49\n",
            "-----------------------------------------------------------------------------------------\n",
            "| epoch  35 |    17/   34 batches | lr 0.0001 | ms/batch 87.05 | loss  0.34\n",
            "| epoch  35 |    33/   34 batches | lr 0.0001 | ms/batch 71.27 | loss  0.34\n",
            "| epoch  35 |    34/   34 batches | lr 0.0001 | ms/batch  2.35 | loss  0.34\n",
            "-----------------------------------------------------------------------------------------\n",
            "| end of epoch  35 | time:  4.05s | valid loss  0.50\n",
            "-----------------------------------------------------------------------------------------\n",
            "| epoch  36 |    17/   34 batches | lr 0.0001 | ms/batch 86.62 | loss  0.35\n",
            "| epoch  36 |    33/   34 batches | lr 0.0001 | ms/batch 71.27 | loss  0.34\n",
            "| epoch  36 |    34/   34 batches | lr 0.0001 | ms/batch  2.39 | loss  0.34\n",
            "-----------------------------------------------------------------------------------------\n",
            "| end of epoch  36 | time:  4.07s | valid loss  0.47\n",
            "-----------------------------------------------------------------------------------------\n",
            "| epoch  37 |    17/   34 batches | lr 0.0001 | ms/batch 86.66 | loss  0.34\n",
            "| epoch  37 |    33/   34 batches | lr 0.0001 | ms/batch 70.75 | loss  0.34\n",
            "| epoch  37 |    34/   34 batches | lr 0.0001 | ms/batch  2.41 | loss  0.34\n",
            "-----------------------------------------------------------------------------------------\n",
            "| end of epoch  37 | time:  4.03s | valid loss  0.45\n",
            "-----------------------------------------------------------------------------------------\n",
            "| epoch  38 |    17/   34 batches | lr 0.0001 | ms/batch 86.09 | loss  0.34\n",
            "| epoch  38 |    33/   34 batches | lr 0.0001 | ms/batch 70.97 | loss  0.34\n",
            "| epoch  38 |    34/   34 batches | lr 0.0001 | ms/batch  2.43 | loss  0.34\n",
            "-----------------------------------------------------------------------------------------\n",
            "| end of epoch  38 | time:  4.04s | valid loss  0.42\n",
            "-----------------------------------------------------------------------------------------\n",
            "| epoch  39 |    17/   34 batches | lr 0.0001 | ms/batch 86.54 | loss  0.32\n",
            "| epoch  39 |    33/   34 batches | lr 0.0001 | ms/batch 70.77 | loss  0.33\n",
            "| epoch  39 |    34/   34 batches | lr 0.0001 | ms/batch  2.47 | loss  0.33\n",
            "-----------------------------------------------------------------------------------------\n",
            "| end of epoch  39 | time:  4.01s | valid loss  0.47\n",
            "-----------------------------------------------------------------------------------------\n",
            "| epoch  40 |    17/   34 batches | lr 0.0001 | ms/batch 86.74 | loss  0.33\n",
            "| epoch  40 |    33/   34 batches | lr 0.0001 | ms/batch 71.44 | loss  0.34\n",
            "| epoch  40 |    34/   34 batches | lr 0.0001 | ms/batch  2.30 | loss  0.34\n",
            "-----------------------------------------------------------------------------------------\n",
            "| end of epoch  40 | time:  4.04s | valid loss  0.46\n",
            "-----------------------------------------------------------------------------------------\n",
            "| epoch  41 |    17/   34 batches | lr 0.0001 | ms/batch 86.48 | loss  0.33\n",
            "| epoch  41 |    33/   34 batches | lr 0.0001 | ms/batch 70.55 | loss  0.33\n",
            "| epoch  41 |    34/   34 batches | lr 0.0001 | ms/batch  2.33 | loss  0.33\n",
            "-----------------------------------------------------------------------------------------\n",
            "| end of epoch  41 | time:  4.01s | valid loss  0.46\n",
            "-----------------------------------------------------------------------------------------\n",
            "| epoch  42 |    17/   34 batches | lr 0.0001 | ms/batch 87.11 | loss  0.33\n",
            "| epoch  42 |    33/   34 batches | lr 0.0001 | ms/batch 70.72 | loss  0.33\n",
            "| epoch  42 |    34/   34 batches | lr 0.0001 | ms/batch  2.29 | loss  0.33\n",
            "-----------------------------------------------------------------------------------------\n",
            "| end of epoch  42 | time:  4.00s | valid loss  0.48\n",
            "-----------------------------------------------------------------------------------------\n",
            "| epoch  43 |    17/   34 batches | lr 0.0001 | ms/batch 86.59 | loss  0.33\n",
            "| epoch  43 |    33/   34 batches | lr 0.0001 | ms/batch 70.90 | loss  0.33\n",
            "| epoch  43 |    34/   34 batches | lr 0.0001 | ms/batch  2.30 | loss  0.33\n",
            "-----------------------------------------------------------------------------------------\n",
            "| end of epoch  43 | time:  4.00s | valid loss  0.42\n",
            "-----------------------------------------------------------------------------------------\n",
            "| epoch  44 |    17/   34 batches | lr 0.0001 | ms/batch 85.98 | loss  0.32\n",
            "| epoch  44 |    33/   34 batches | lr 0.0001 | ms/batch 71.15 | loss  0.32\n",
            "| epoch  44 |    34/   34 batches | lr 0.0001 | ms/batch  2.41 | loss  0.33\n",
            "-----------------------------------------------------------------------------------------\n",
            "| end of epoch  44 | time:  4.00s | valid loss  0.46\n",
            "-----------------------------------------------------------------------------------------\n",
            "| epoch  45 |    17/   34 batches | lr 0.0001 | ms/batch 86.08 | loss  0.33\n",
            "| epoch  45 |    33/   34 batches | lr 0.0001 | ms/batch 70.69 | loss  0.33\n",
            "| epoch  45 |    34/   34 batches | lr 0.0001 | ms/batch  2.33 | loss  0.33\n",
            "-----------------------------------------------------------------------------------------\n",
            "| end of epoch  45 | time:  3.98s | valid loss  0.50\n",
            "-----------------------------------------------------------------------------------------\n",
            "| epoch  46 |    17/   34 batches | lr 0.0001 | ms/batch 86.65 | loss  0.32\n",
            "| epoch  46 |    33/   34 batches | lr 0.0001 | ms/batch 71.49 | loss  0.33\n",
            "| epoch  46 |    34/   34 batches | lr 0.0001 | ms/batch  2.34 | loss  0.33\n",
            "-----------------------------------------------------------------------------------------\n",
            "| end of epoch  46 | time:  4.03s | valid loss  0.43\n",
            "-----------------------------------------------------------------------------------------\n",
            "| epoch  47 |    17/   34 batches | lr 0.0001 | ms/batch 85.80 | loss  0.32\n",
            "| epoch  47 |    33/   34 batches | lr 0.0001 | ms/batch 71.23 | loss  0.33\n",
            "| epoch  47 |    34/   34 batches | lr 0.0001 | ms/batch  2.35 | loss  0.33\n",
            "-----------------------------------------------------------------------------------------\n",
            "| end of epoch  47 | time:  4.03s | valid loss  0.45\n",
            "-----------------------------------------------------------------------------------------\n",
            "| epoch  48 |    17/   34 batches | lr 0.0001 | ms/batch 86.34 | loss  0.33\n",
            "| epoch  48 |    33/   34 batches | lr 0.0001 | ms/batch 71.60 | loss  0.32\n",
            "| epoch  48 |    34/   34 batches | lr 0.0001 | ms/batch  2.34 | loss  0.32\n",
            "-----------------------------------------------------------------------------------------\n",
            "| end of epoch  48 | time:  4.02s | valid loss  0.46\n",
            "-----------------------------------------------------------------------------------------\n",
            "| epoch  49 |    17/   34 batches | lr 0.0001 | ms/batch 86.27 | loss  0.32\n",
            "| epoch  49 |    33/   34 batches | lr 0.0001 | ms/batch 71.18 | loss  0.32\n",
            "| epoch  49 |    34/   34 batches | lr 0.0001 | ms/batch  2.28 | loss  0.32\n",
            "-----------------------------------------------------------------------------------------\n",
            "| end of epoch  49 | time:  3.98s | valid loss  0.49\n",
            "-----------------------------------------------------------------------------------------\n",
            "| epoch  50 |    17/   34 batches | lr 0.0001 | ms/batch 86.38 | loss  0.32\n",
            "| epoch  50 |    33/   34 batches | lr 0.0001 | ms/batch 71.27 | loss  0.32\n",
            "| epoch  50 |    34/   34 batches | lr 0.0001 | ms/batch  2.39 | loss  0.32\n",
            "-----------------------------------------------------------------------------------------\n",
            "| end of epoch  50 | time:  3.98s | valid loss  0.48\n",
            "-----------------------------------------------------------------------------------------\n",
            "| epoch  51 |    17/   34 batches | lr 0.0001 | ms/batch 86.13 | loss  0.32\n",
            "| epoch  51 |    33/   34 batches | lr 0.0001 | ms/batch 70.49 | loss  0.32\n",
            "| epoch  51 |    34/   34 batches | lr 0.0001 | ms/batch  2.31 | loss  0.32\n",
            "-----------------------------------------------------------------------------------------\n",
            "| end of epoch  51 | time:  3.98s | valid loss  0.46\n",
            "-----------------------------------------------------------------------------------------\n",
            "| epoch  52 |    17/   34 batches | lr 0.0001 | ms/batch 87.73 | loss  0.32\n",
            "| epoch  52 |    33/   34 batches | lr 0.0001 | ms/batch 71.08 | loss  0.32\n",
            "| epoch  52 |    34/   34 batches | lr 0.0001 | ms/batch  2.34 | loss  0.32\n",
            "-----------------------------------------------------------------------------------------\n",
            "| end of epoch  52 | time:  4.05s | valid loss  0.46\n",
            "-----------------------------------------------------------------------------------------\n",
            "| epoch  53 |    17/   34 batches | lr 0.0001 | ms/batch 86.95 | loss  0.31\n",
            "| epoch  53 |    33/   34 batches | lr 0.0001 | ms/batch 71.27 | loss  0.32\n",
            "| epoch  53 |    34/   34 batches | lr 0.0001 | ms/batch  2.35 | loss  0.32\n",
            "-----------------------------------------------------------------------------------------\n",
            "| end of epoch  53 | time:  4.02s | valid loss  0.49\n",
            "-----------------------------------------------------------------------------------------\n",
            "| epoch  54 |    17/   34 batches | lr 0.0001 | ms/batch 87.01 | loss  0.32\n",
            "| epoch  54 |    33/   34 batches | lr 0.0001 | ms/batch 71.51 | loss  0.32\n",
            "| epoch  54 |    34/   34 batches | lr 0.0001 | ms/batch  2.40 | loss  0.32\n",
            "-----------------------------------------------------------------------------------------\n",
            "| end of epoch  54 | time:  4.03s | valid loss  0.44\n",
            "-----------------------------------------------------------------------------------------\n",
            "| epoch  55 |    17/   34 batches | lr 0.0001 | ms/batch 88.03 | loss  0.31\n",
            "| epoch  55 |    33/   34 batches | lr 0.0001 | ms/batch 71.52 | loss  0.32\n",
            "| epoch  55 |    34/   34 batches | lr 0.0001 | ms/batch  2.36 | loss  0.32\n",
            "-----------------------------------------------------------------------------------------\n",
            "| end of epoch  55 | time:  4.06s | valid loss  0.48\n",
            "-----------------------------------------------------------------------------------------\n",
            "| epoch  56 |    17/   34 batches | lr 0.0001 | ms/batch 87.30 | loss  0.31\n",
            "| epoch  56 |    33/   34 batches | lr 0.0001 | ms/batch 71.69 | loss  0.32\n",
            "| epoch  56 |    34/   34 batches | lr 0.0001 | ms/batch  2.32 | loss  0.32\n",
            "-----------------------------------------------------------------------------------------\n",
            "| end of epoch  56 | time:  4.06s | valid loss  0.41\n",
            "-----------------------------------------------------------------------------------------\n",
            "| epoch  57 |    17/   34 batches | lr 0.0001 | ms/batch 86.67 | loss  0.31\n",
            "| epoch  57 |    33/   34 batches | lr 0.0001 | ms/batch 71.64 | loss  0.32\n",
            "| epoch  57 |    34/   34 batches | lr 0.0001 | ms/batch  2.38 | loss  0.31\n",
            "-----------------------------------------------------------------------------------------\n",
            "| end of epoch  57 | time:  4.02s | valid loss  0.47\n",
            "-----------------------------------------------------------------------------------------\n",
            "| epoch  58 |    17/   34 batches | lr 0.0001 | ms/batch 86.48 | loss  0.32\n",
            "| epoch  58 |    33/   34 batches | lr 0.0001 | ms/batch 70.83 | loss  0.31\n",
            "| epoch  58 |    34/   34 batches | lr 0.0001 | ms/batch  2.33 | loss  0.31\n",
            "-----------------------------------------------------------------------------------------\n",
            "| end of epoch  58 | time:  3.99s | valid loss  0.44\n",
            "-----------------------------------------------------------------------------------------\n",
            "| epoch  59 |    17/   34 batches | lr 0.0001 | ms/batch 86.40 | loss  0.31\n",
            "| epoch  59 |    33/   34 batches | lr 0.0001 | ms/batch 71.43 | loss  0.32\n",
            "| epoch  59 |    34/   34 batches | lr 0.0001 | ms/batch  2.41 | loss  0.32\n",
            "-----------------------------------------------------------------------------------------\n",
            "| end of epoch  59 | time:  3.97s | valid loss  0.48\n",
            "-----------------------------------------------------------------------------------------\n",
            "| epoch  60 |    17/   34 batches | lr 0.0001 | ms/batch 87.78 | loss  0.31\n",
            "| epoch  60 |    33/   34 batches | lr 0.0001 | ms/batch 71.63 | loss  0.31\n",
            "| epoch  60 |    34/   34 batches | lr 0.0001 | ms/batch  2.37 | loss  0.31\n",
            "-----------------------------------------------------------------------------------------\n",
            "| end of epoch  60 | time:  4.06s | valid loss  0.45\n",
            "-----------------------------------------------------------------------------------------\n",
            "| epoch  61 |    17/   34 batches | lr 0.0001 | ms/batch 88.22 | loss  0.31\n",
            "| epoch  61 |    33/   34 batches | lr 0.0001 | ms/batch 71.70 | loss  0.31\n",
            "| epoch  61 |    34/   34 batches | lr 0.0001 | ms/batch  2.36 | loss  0.31\n",
            "-----------------------------------------------------------------------------------------\n",
            "| end of epoch  61 | time:  4.06s | valid loss  0.44\n",
            "-----------------------------------------------------------------------------------------\n",
            "| epoch  62 |    17/   34 batches | lr 0.0001 | ms/batch 87.35 | loss  0.32\n",
            "| epoch  62 |    33/   34 batches | lr 0.0001 | ms/batch 71.44 | loss  0.31\n",
            "| epoch  62 |    34/   34 batches | lr 0.0001 | ms/batch  2.40 | loss  0.31\n",
            "-----------------------------------------------------------------------------------------\n",
            "| end of epoch  62 | time:  4.04s | valid loss  0.44\n",
            "-----------------------------------------------------------------------------------------\n",
            "| epoch  63 |    17/   34 batches | lr 0.0001 | ms/batch 87.19 | loss  0.33\n",
            "| epoch  63 |    33/   34 batches | lr 0.0001 | ms/batch 71.92 | loss  0.32\n",
            "| epoch  63 |    34/   34 batches | lr 0.0001 | ms/batch  2.39 | loss  0.31\n",
            "-----------------------------------------------------------------------------------------\n",
            "| end of epoch  63 | time:  4.06s | valid loss  0.44\n",
            "-----------------------------------------------------------------------------------------\n",
            "| epoch  64 |    17/   34 batches | lr 0.0001 | ms/batch 87.16 | loss  0.31\n",
            "| epoch  64 |    33/   34 batches | lr 0.0001 | ms/batch 72.19 | loss  0.31\n",
            "| epoch  64 |    34/   34 batches | lr 0.0001 | ms/batch  2.35 | loss  0.31\n",
            "-----------------------------------------------------------------------------------------\n",
            "| end of epoch  64 | time:  4.06s | valid loss  0.47\n",
            "-----------------------------------------------------------------------------------------\n",
            "| epoch  65 |    17/   34 batches | lr 0.0001 | ms/batch 87.45 | loss  0.31\n",
            "| epoch  65 |    33/   34 batches | lr 0.0001 | ms/batch 71.85 | loss  0.31\n",
            "| epoch  65 |    34/   34 batches | lr 0.0001 | ms/batch  2.30 | loss  0.31\n",
            "-----------------------------------------------------------------------------------------\n",
            "| end of epoch  65 | time:  4.01s | valid loss  0.44\n",
            "-----------------------------------------------------------------------------------------\n",
            "| epoch  66 |    17/   34 batches | lr 0.0001 | ms/batch 87.99 | loss  0.31\n",
            "| epoch  66 |    33/   34 batches | lr 0.0001 | ms/batch 71.54 | loss  0.31\n",
            "| epoch  66 |    34/   34 batches | lr 0.0001 | ms/batch  2.48 | loss  0.31\n",
            "-----------------------------------------------------------------------------------------\n",
            "| end of epoch  66 | time:  4.09s | valid loss  0.44\n",
            "-----------------------------------------------------------------------------------------\n",
            "| epoch  67 |    17/   34 batches | lr 0.0001 | ms/batch 87.96 | loss  0.31\n",
            "| epoch  67 |    33/   34 batches | lr 0.0001 | ms/batch 71.51 | loss  0.31\n",
            "| epoch  67 |    34/   34 batches | lr 0.0001 | ms/batch  2.42 | loss  0.31\n",
            "-----------------------------------------------------------------------------------------\n",
            "| end of epoch  67 | time:  4.01s | valid loss  0.49\n",
            "-----------------------------------------------------------------------------------------\n",
            "| epoch  68 |    17/   34 batches | lr 0.0001 | ms/batch 86.62 | loss  0.31\n",
            "| epoch  68 |    33/   34 batches | lr 0.0001 | ms/batch 71.32 | loss  0.31\n",
            "| epoch  68 |    34/   34 batches | lr 0.0001 | ms/batch  2.40 | loss  0.31\n",
            "-----------------------------------------------------------------------------------------\n",
            "| end of epoch  68 | time:  4.00s | valid loss  0.47\n",
            "-----------------------------------------------------------------------------------------\n",
            "| epoch  69 |    17/   34 batches | lr 0.0001 | ms/batch 87.51 | loss  0.31\n",
            "| epoch  69 |    33/   34 batches | lr 0.0001 | ms/batch 72.20 | loss  0.31\n",
            "| epoch  69 |    34/   34 batches | lr 0.0001 | ms/batch  2.31 | loss  0.31\n",
            "-----------------------------------------------------------------------------------------\n",
            "| end of epoch  69 | time:  4.04s | valid loss  0.41\n",
            "-----------------------------------------------------------------------------------------\n",
            "| epoch  70 |    17/   34 batches | lr 0.0000 | ms/batch 87.80 | loss  0.31\n",
            "| epoch  70 |    33/   34 batches | lr 0.0000 | ms/batch 71.63 | loss  0.31\n",
            "| epoch  70 |    34/   34 batches | lr 0.0000 | ms/batch  2.35 | loss  0.31\n",
            "-----------------------------------------------------------------------------------------\n",
            "| end of epoch  70 | time:  4.03s | valid loss  0.46\n",
            "-----------------------------------------------------------------------------------------\n",
            "| epoch  71 |    17/   34 batches | lr 0.0000 | ms/batch 87.25 | loss  0.31\n",
            "| epoch  71 |    33/   34 batches | lr 0.0000 | ms/batch 71.93 | loss  0.30\n",
            "| epoch  71 |    34/   34 batches | lr 0.0000 | ms/batch  2.38 | loss  0.30\n",
            "-----------------------------------------------------------------------------------------\n",
            "| end of epoch  71 | time:  4.06s | valid loss  0.45\n",
            "-----------------------------------------------------------------------------------------\n",
            "| epoch  72 |    17/   34 batches | lr 0.0000 | ms/batch 87.36 | loss  0.31\n",
            "| epoch  72 |    33/   34 batches | lr 0.0000 | ms/batch 71.90 | loss  0.30\n",
            "| epoch  72 |    34/   34 batches | lr 0.0000 | ms/batch  2.36 | loss  0.30\n",
            "-----------------------------------------------------------------------------------------\n",
            "| end of epoch  72 | time:  4.23s | valid loss  0.44\n",
            "-----------------------------------------------------------------------------------------\n",
            "| epoch  73 |    17/   34 batches | lr 0.0000 | ms/batch 89.22 | loss  0.31\n",
            "| epoch  73 |    33/   34 batches | lr 0.0000 | ms/batch 71.98 | loss  0.30\n",
            "| epoch  73 |    34/   34 batches | lr 0.0000 | ms/batch  2.47 | loss  0.30\n",
            "-----------------------------------------------------------------------------------------\n",
            "| end of epoch  73 | time:  4.08s | valid loss  0.46\n",
            "-----------------------------------------------------------------------------------------\n",
            "| epoch  74 |    17/   34 batches | lr 0.0000 | ms/batch 88.58 | loss  0.32\n",
            "| epoch  74 |    33/   34 batches | lr 0.0000 | ms/batch 71.94 | loss  0.31\n",
            "| epoch  74 |    34/   34 batches | lr 0.0000 | ms/batch  2.46 | loss  0.31\n",
            "-----------------------------------------------------------------------------------------\n",
            "| end of epoch  74 | time:  4.10s | valid loss  0.47\n",
            "-----------------------------------------------------------------------------------------\n",
            "| epoch  75 |    17/   34 batches | lr 0.0000 | ms/batch 88.95 | loss  0.30\n",
            "| epoch  75 |    33/   34 batches | lr 0.0000 | ms/batch 72.14 | loss  0.30\n",
            "| epoch  75 |    34/   34 batches | lr 0.0000 | ms/batch  2.37 | loss  0.30\n",
            "-----------------------------------------------------------------------------------------\n",
            "| end of epoch  75 | time:  4.07s | valid loss  0.44\n",
            "-----------------------------------------------------------------------------------------\n",
            "| epoch  76 |    17/   34 batches | lr 0.0000 | ms/batch 89.27 | loss  0.30\n",
            "| epoch  76 |    33/   34 batches | lr 0.0000 | ms/batch 72.78 | loss  0.30\n",
            "| epoch  76 |    34/   34 batches | lr 0.0000 | ms/batch  2.42 | loss  0.31\n",
            "-----------------------------------------------------------------------------------------\n",
            "| end of epoch  76 | time:  4.13s | valid loss  0.46\n",
            "-----------------------------------------------------------------------------------------\n",
            "| epoch  77 |    17/   34 batches | lr 0.0000 | ms/batch 89.50 | loss  0.30\n",
            "| epoch  77 |    33/   34 batches | lr 0.0000 | ms/batch 72.41 | loss  0.30\n",
            "| epoch  77 |    34/   34 batches | lr 0.0000 | ms/batch  2.39 | loss  0.30\n",
            "-----------------------------------------------------------------------------------------\n",
            "| end of epoch  77 | time:  4.14s | valid loss  0.47\n",
            "-----------------------------------------------------------------------------------------\n",
            "| epoch  78 |    17/   34 batches | lr 0.0000 | ms/batch 88.26 | loss  0.30\n",
            "| epoch  78 |    33/   34 batches | lr 0.0000 | ms/batch 73.60 | loss  0.30\n",
            "| epoch  78 |    34/   34 batches | lr 0.0000 | ms/batch  2.38 | loss  0.30\n",
            "-----------------------------------------------------------------------------------------\n",
            "| end of epoch  78 | time:  4.15s | valid loss  0.50\n",
            "-----------------------------------------------------------------------------------------\n",
            "| epoch  79 |    17/   34 batches | lr 0.0000 | ms/batch 89.49 | loss  0.30\n",
            "| epoch  79 |    33/   34 batches | lr 0.0000 | ms/batch 72.51 | loss  0.30\n",
            "| epoch  79 |    34/   34 batches | lr 0.0000 | ms/batch  2.52 | loss  0.30\n",
            "-----------------------------------------------------------------------------------------\n",
            "| end of epoch  79 | time:  4.15s | valid loss  0.47\n",
            "-----------------------------------------------------------------------------------------\n",
            "| epoch  80 |    17/   34 batches | lr 0.0000 | ms/batch 88.81 | loss  0.31\n",
            "| epoch  80 |    33/   34 batches | lr 0.0000 | ms/batch 73.33 | loss  0.30\n",
            "| epoch  80 |    34/   34 batches | lr 0.0000 | ms/batch  2.36 | loss  0.30\n",
            "-----------------------------------------------------------------------------------------\n",
            "| end of epoch  80 | time:  4.14s | valid loss  0.48\n",
            "-----------------------------------------------------------------------------------------\n"
          ],
          "name": "stdout"
        },
        {
          "output_type": "display_data",
          "data": {
            "text/html": [
              "<br/>Waiting for W&B process to finish, PID 36561<br/>Program ended successfully."
            ],
            "text/plain": [
              "<IPython.core.display.HTML object>"
            ]
          },
          "metadata": {
            "tags": []
          }
        },
        {
          "output_type": "display_data",
          "data": {
            "application/vnd.jupyter.widget-view+json": {
              "model_id": "5c3cdd424ce54d2d8582b0bde8edd231",
              "version_minor": 0,
              "version_major": 2
            },
            "text/plain": [
              "VBox(children=(Label(value=' 0.00MB of 0.00MB uploaded (0.00MB deduped)\\r'), FloatProgress(value=1.0, max=1.0)…"
            ]
          },
          "metadata": {
            "tags": []
          }
        },
        {
          "output_type": "display_data",
          "data": {
            "text/html": [
              "Find user logs for this run at: <code>/content/wandb/run-20210726_085149-k1mm6lm7/logs/debug.log</code>"
            ],
            "text/plain": [
              "<IPython.core.display.HTML object>"
            ]
          },
          "metadata": {
            "tags": []
          }
        },
        {
          "output_type": "display_data",
          "data": {
            "text/html": [
              "Find internal logs for this run at: <code>/content/wandb/run-20210726_085149-k1mm6lm7/logs/debug-internal.log</code>"
            ],
            "text/plain": [
              "<IPython.core.display.HTML object>"
            ]
          },
          "metadata": {
            "tags": []
          }
        },
        {
          "output_type": "display_data",
          "data": {
            "text/html": [
              "<h3>Run summary:</h3><br/><style>\n",
              "    table.wandb td:nth-child(1) { padding: 0 10px; text-align: right }\n",
              "    </style><table class=\"wandb\">\n",
              "<tr><td>loss</td><td>0.30224</td></tr><tr><td>eval</td><td>0.47732</td></tr><tr><td>_runtime</td><td>324</td></tr><tr><td>_timestamp</td><td>1627289833</td></tr><tr><td>_step</td><td>79</td></tr></table>"
            ],
            "text/plain": [
              "<IPython.core.display.HTML object>"
            ]
          },
          "metadata": {
            "tags": []
          }
        },
        {
          "output_type": "display_data",
          "data": {
            "text/html": [
              "<h3>Run history:</h3><br/><style>\n",
              "    table.wandb td:nth-child(1) { padding: 0 10px; text-align: right }\n",
              "    </style><table class=\"wandb\">\n",
              "<tr><td>loss</td><td>█▄▂▁▁▁▁▁▁▁▁▁▁▁▁▁▁▁▁▁▁▁▁▁▁▁▁▁▁▁▁▁▁▁▁▁▁▁▁▁</td></tr><tr><td>eval</td><td>█▄▂▁▁▁▁▁▁▁▁▁▁▁▁▁▁▁▁▁▁▁▁▁▁▁▁▁▁▁▁▁▁▁▁▁▁▁▁▁</td></tr><tr><td>_runtime</td><td>▁▁▁▂▂▂▂▂▂▃▃▃▃▃▃▄▄▄▄▄▅▅▅▅▅▅▆▆▆▆▆▆▇▇▇▇▇███</td></tr><tr><td>_timestamp</td><td>▁▁▁▂▂▂▂▂▂▃▃▃▃▃▃▄▄▄▄▄▅▅▅▅▅▅▆▆▆▆▆▆▇▇▇▇▇███</td></tr><tr><td>_step</td><td>▁▁▁▂▂▂▂▂▂▃▃▃▃▃▃▄▄▄▄▄▅▅▅▅▅▅▆▆▆▆▆▆▇▇▇▇▇███</td></tr></table><br/>"
            ],
            "text/plain": [
              "<IPython.core.display.HTML object>"
            ]
          },
          "metadata": {
            "tags": []
          }
        },
        {
          "output_type": "display_data",
          "data": {
            "text/html": [
              "Synced 5 W&B file(s), 0 media file(s), 0 artifact file(s) and 0 other file(s)"
            ],
            "text/plain": [
              "<IPython.core.display.HTML object>"
            ]
          },
          "metadata": {
            "tags": []
          }
        },
        {
          "output_type": "display_data",
          "data": {
            "text/html": [
              "\n",
              "                    <br/>Synced <strong style=\"color:#cdcd00\">eager-snowflake-55</strong>: <a href=\"https://wandb.ai/sronen71/kinase_challenege/runs/k1mm6lm7\" target=\"_blank\">https://wandb.ai/sronen71/kinase_challenege/runs/k1mm6lm7</a><br/>\n",
              "                "
            ],
            "text/plain": [
              "<IPython.core.display.HTML object>"
            ]
          },
          "metadata": {
            "tags": []
          }
        }
      ]
    }
  ]
}